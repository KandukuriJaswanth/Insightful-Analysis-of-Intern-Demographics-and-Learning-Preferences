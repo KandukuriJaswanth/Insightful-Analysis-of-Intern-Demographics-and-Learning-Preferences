{
 "cells": [
  {
   "cell_type": "markdown",
   "id": "0cf5780a-80fa-4c43-a9df-5464f86f3382",
   "metadata": {},
   "source": [
    "# **Task-1 Analyzing Interns Data**"
   ]
  },
  {
   "cell_type": "code",
   "execution_count": 1,
   "id": "acd6bbcc-26cd-4daf-9acf-0f7a7cda5311",
   "metadata": {},
   "outputs": [],
   "source": [
    "import numpy as np\n",
    "import pandas as pd\n",
    "import matplotlib.pyplot as plt\n",
    "import seaborn as sns"
   ]
  },
  {
   "cell_type": "markdown",
   "id": "e71ad76c-0c07-456f-a2ff-6fe5666c6e50",
   "metadata": {},
   "source": [
    "## **Summary**\n",
    "* The program examined Innomatics interns' demographics, professional backgrounds, skill preferences, and course enrollments. Key insights include age distribution, the significance of skills like \"Prompt Engineering,\" and Innomatics' prominence as a preferred institute among data science professionals."
   ]
  },
  {
   "cell_type": "markdown",
   "id": "865dcc01-a2fe-4c82-ae0d-321cdb78bf56",
   "metadata": {},
   "source": [
    "# **Data Overview**"
   ]
  },
  {
   "cell_type": "code",
   "execution_count": 5,
   "id": "783e4081-2d2d-40c3-aeca-4dfde8bb2d6f",
   "metadata": {},
   "outputs": [],
   "source": [
    "df = pd.read_csv('raw_data_v11_3.csv')"
   ]
  },
  {
   "cell_type": "code",
   "execution_count": 4,
   "id": "4b3f720b-6449-463c-8dbc-81b76accbed9",
   "metadata": {},
   "outputs": [
    {
     "data": {
      "text/html": [
       "<div>\n",
       "<style scoped>\n",
       "    .dataframe tbody tr th:only-of-type {\n",
       "        vertical-align: middle;\n",
       "    }\n",
       "\n",
       "    .dataframe tbody tr th {\n",
       "        vertical-align: top;\n",
       "    }\n",
       "\n",
       "    .dataframe thead th {\n",
       "        text-align: right;\n",
       "    }\n",
       "</style>\n",
       "<table border=\"1\" class=\"dataframe\">\n",
       "  <thead>\n",
       "    <tr style=\"text-align: right;\">\n",
       "      <th></th>\n",
       "      <th>Date of Birth</th>\n",
       "      <th>What is your current profession?</th>\n",
       "      <th>What is the year of completion of your Highest Education Qualification?</th>\n",
       "      <th>Which of the following best describes you?</th>\n",
       "      <th>Please mention the name of the institute where you have completed or are currently pursuing your Data Science Certification Course.</th>\n",
       "      <th>In case your certification institute is \"Innomatics Research Labs\", please provide your Enrolled Batch Number.</th>\n",
       "      <th>Please indicate the time that suits you for your daily LIVE interaction with our Chief Data Scientist as part of your internship.</th>\n",
       "      <th>What do you think are most important skill right now for a skilled Data Scientist?</th>\n",
       "    </tr>\n",
       "  </thead>\n",
       "  <tbody>\n",
       "    <tr>\n",
       "      <th>0</th>\n",
       "      <td>9/16/2000</td>\n",
       "      <td>Fresher (I have completed my Education and loo...</td>\n",
       "      <td>7/30/2023</td>\n",
       "      <td>I am currently enrolled in a Data Science cert...</td>\n",
       "      <td>Innomatics Research Labs</td>\n",
       "      <td>251</td>\n",
       "      <td>6:00 to 7:00 PM IST</td>\n",
       "      <td>Extracting actionable insights from the raw da...</td>\n",
       "    </tr>\n",
       "    <tr>\n",
       "      <th>1</th>\n",
       "      <td>2/6/1998</td>\n",
       "      <td>Fresher (I have completed my Education and loo...</td>\n",
       "      <td>5/18/2022</td>\n",
       "      <td>I have never enrolled in any certification cou...</td>\n",
       "      <td>NaN</td>\n",
       "      <td>NaN</td>\n",
       "      <td>6:00 to 7:00 PM IST</td>\n",
       "      <td>Extracting actionable insights from the raw data</td>\n",
       "    </tr>\n",
       "    <tr>\n",
       "      <th>2</th>\n",
       "      <td>10/8/2003</td>\n",
       "      <td>Student (I am currently enrolled in some Educa...</td>\n",
       "      <td>4/1/2025</td>\n",
       "      <td>I am currently enrolled in a Data Science cert...</td>\n",
       "      <td>NaN</td>\n",
       "      <td>NaN</td>\n",
       "      <td>6:00 to 7:00 PM IST</td>\n",
       "      <td>Data Modelling</td>\n",
       "    </tr>\n",
       "    <tr>\n",
       "      <th>3</th>\n",
       "      <td>11/29/2001</td>\n",
       "      <td>Student (I am currently enrolled in some Educa...</td>\n",
       "      <td>5/15/2024</td>\n",
       "      <td>I have never enrolled in any certification cou...</td>\n",
       "      <td>NaN</td>\n",
       "      <td>NaN</td>\n",
       "      <td>5:00 to 6:00 PM IST</td>\n",
       "      <td>Extracting actionable insights from the raw da...</td>\n",
       "    </tr>\n",
       "    <tr>\n",
       "      <th>4</th>\n",
       "      <td>11/25/2004</td>\n",
       "      <td>Student (I am currently enrolled in some Educa...</td>\n",
       "      <td>1/10/2026</td>\n",
       "      <td>I have completed a Data Science certification ...</td>\n",
       "      <td>Velagapudi ramakrishna Siddhartha college</td>\n",
       "      <td>Na</td>\n",
       "      <td>6:00 to 7:00 PM IST</td>\n",
       "      <td>Extracting actionable insights from the raw da...</td>\n",
       "    </tr>\n",
       "    <tr>\n",
       "      <th>...</th>\n",
       "      <td>...</td>\n",
       "      <td>...</td>\n",
       "      <td>...</td>\n",
       "      <td>...</td>\n",
       "      <td>...</td>\n",
       "      <td>...</td>\n",
       "      <td>...</td>\n",
       "      <td>...</td>\n",
       "    </tr>\n",
       "    <tr>\n",
       "      <th>995</th>\n",
       "      <td>8/28/1998</td>\n",
       "      <td>Fresher (I have completed my Education and loo...</td>\n",
       "      <td>11/15/2022</td>\n",
       "      <td>I have completed a Data Science certification ...</td>\n",
       "      <td>DevTown</td>\n",
       "      <td>NaN</td>\n",
       "      <td>6:00 to 7:00 PM IST</td>\n",
       "      <td>Extracting actionable insights from the raw da...</td>\n",
       "    </tr>\n",
       "    <tr>\n",
       "      <th>996</th>\n",
       "      <td>4/22/2004</td>\n",
       "      <td>Student (I am currently enrolled in some Educa...</td>\n",
       "      <td>7/23/2026</td>\n",
       "      <td>I am currently enrolled in a Data Science cert...</td>\n",
       "      <td>ONLINE COURSE</td>\n",
       "      <td>NaN</td>\n",
       "      <td>6:00 to 7:00 PM IST</td>\n",
       "      <td>LLMs</td>\n",
       "    </tr>\n",
       "    <tr>\n",
       "      <th>997</th>\n",
       "      <td>6/8/2000</td>\n",
       "      <td>Student (I am currently enrolled in some Educa...</td>\n",
       "      <td>5/31/2024</td>\n",
       "      <td>I have completed a Data Science certification ...</td>\n",
       "      <td>Chandigarh University</td>\n",
       "      <td>NaN</td>\n",
       "      <td>6:00 to 7:00 PM IST</td>\n",
       "      <td>Extracting actionable insights from the raw da...</td>\n",
       "    </tr>\n",
       "    <tr>\n",
       "      <th>998</th>\n",
       "      <td>6/3/2003</td>\n",
       "      <td>Student (I am currently enrolled in some Educa...</td>\n",
       "      <td>5/30/2025</td>\n",
       "      <td>I have never enrolled in any certification cou...</td>\n",
       "      <td>NaN</td>\n",
       "      <td>NaN</td>\n",
       "      <td>6:00 to 7:00 PM IST</td>\n",
       "      <td>Extracting actionable insights from the raw da...</td>\n",
       "    </tr>\n",
       "    <tr>\n",
       "      <th>999</th>\n",
       "      <td>7/24/2003</td>\n",
       "      <td>Student (I am currently enrolled in some Educa...</td>\n",
       "      <td>5/25/2025</td>\n",
       "      <td>I am currently enrolled in a Data Science cert...</td>\n",
       "      <td>Birla Institute of Technology and Science, Pil...</td>\n",
       "      <td>NaN</td>\n",
       "      <td>6:00 to 7:00 PM IST</td>\n",
       "      <td>LLMs, MLOps, Prompt Engineering</td>\n",
       "    </tr>\n",
       "  </tbody>\n",
       "</table>\n",
       "<p>1000 rows × 8 columns</p>\n",
       "</div>"
      ],
      "text/plain": [
       "    Date of Birth                   What is your current profession?  \\\n",
       "0       9/16/2000  Fresher (I have completed my Education and loo...   \n",
       "1        2/6/1998  Fresher (I have completed my Education and loo...   \n",
       "2       10/8/2003  Student (I am currently enrolled in some Educa...   \n",
       "3      11/29/2001  Student (I am currently enrolled in some Educa...   \n",
       "4      11/25/2004  Student (I am currently enrolled in some Educa...   \n",
       "..            ...                                                ...   \n",
       "995     8/28/1998  Fresher (I have completed my Education and loo...   \n",
       "996     4/22/2004  Student (I am currently enrolled in some Educa...   \n",
       "997      6/8/2000  Student (I am currently enrolled in some Educa...   \n",
       "998      6/3/2003  Student (I am currently enrolled in some Educa...   \n",
       "999     7/24/2003  Student (I am currently enrolled in some Educa...   \n",
       "\n",
       "    What is the year of completion of your Highest Education Qualification?  \\\n",
       "0                                            7/30/2023                        \n",
       "1                                            5/18/2022                        \n",
       "2                                             4/1/2025                        \n",
       "3                                            5/15/2024                        \n",
       "4                                            1/10/2026                        \n",
       "..                                                 ...                        \n",
       "995                                         11/15/2022                        \n",
       "996                                          7/23/2026                        \n",
       "997                                          5/31/2024                        \n",
       "998                                          5/30/2025                        \n",
       "999                                          5/25/2025                        \n",
       "\n",
       "            Which of the following best describes you?  \\\n",
       "0    I am currently enrolled in a Data Science cert...   \n",
       "1    I have never enrolled in any certification cou...   \n",
       "2    I am currently enrolled in a Data Science cert...   \n",
       "3    I have never enrolled in any certification cou...   \n",
       "4    I have completed a Data Science certification ...   \n",
       "..                                                 ...   \n",
       "995  I have completed a Data Science certification ...   \n",
       "996  I am currently enrolled in a Data Science cert...   \n",
       "997  I have completed a Data Science certification ...   \n",
       "998  I have never enrolled in any certification cou...   \n",
       "999  I am currently enrolled in a Data Science cert...   \n",
       "\n",
       "    Please mention the name of the institute where you have completed or are currently pursuing your Data Science Certification Course.  \\\n",
       "0                             Innomatics Research Labs                                                                                    \n",
       "1                                                  NaN                                                                                    \n",
       "2                                                  NaN                                                                                    \n",
       "3                                                  NaN                                                                                    \n",
       "4           Velagapudi ramakrishna Siddhartha college                                                                                     \n",
       "..                                                 ...                                                                                    \n",
       "995                                            DevTown                                                                                    \n",
       "996                                     ONLINE COURSE                                                                                     \n",
       "997                             Chandigarh University                                                                                     \n",
       "998                                                NaN                                                                                    \n",
       "999  Birla Institute of Technology and Science, Pil...                                                                                    \n",
       "\n",
       "    In case your certification institute is \"Innomatics Research Labs\", please provide your Enrolled Batch Number.  \\\n",
       "0                                                  251                                                               \n",
       "1                                                  NaN                                                               \n",
       "2                                                  NaN                                                               \n",
       "3                                                  NaN                                                               \n",
       "4                                                   Na                                                               \n",
       "..                                                 ...                                                               \n",
       "995                                                NaN                                                               \n",
       "996                                                NaN                                                               \n",
       "997                                                NaN                                                               \n",
       "998                                                NaN                                                               \n",
       "999                                                NaN                                                               \n",
       "\n",
       "    Please indicate the time that suits you for your daily LIVE interaction with our Chief Data Scientist as part of your internship.  \\\n",
       "0                                  6:00 to 7:00 PM IST                                                                                  \n",
       "1                                  6:00 to 7:00 PM IST                                                                                  \n",
       "2                                  6:00 to 7:00 PM IST                                                                                  \n",
       "3                                  5:00 to 6:00 PM IST                                                                                  \n",
       "4                                  6:00 to 7:00 PM IST                                                                                  \n",
       "..                                                 ...                                                                                  \n",
       "995                                6:00 to 7:00 PM IST                                                                                  \n",
       "996                                6:00 to 7:00 PM IST                                                                                  \n",
       "997                                6:00 to 7:00 PM IST                                                                                  \n",
       "998                                6:00 to 7:00 PM IST                                                                                  \n",
       "999                                6:00 to 7:00 PM IST                                                                                  \n",
       "\n",
       "    What do you think are most important skill right now for a skilled Data Scientist?  \n",
       "0    Extracting actionable insights from the raw da...                                  \n",
       "1     Extracting actionable insights from the raw data                                  \n",
       "2                                       Data Modelling                                  \n",
       "3    Extracting actionable insights from the raw da...                                  \n",
       "4    Extracting actionable insights from the raw da...                                  \n",
       "..                                                 ...                                  \n",
       "995  Extracting actionable insights from the raw da...                                  \n",
       "996                                               LLMs                                  \n",
       "997  Extracting actionable insights from the raw da...                                  \n",
       "998  Extracting actionable insights from the raw da...                                  \n",
       "999                    LLMs, MLOps, Prompt Engineering                                  \n",
       "\n",
       "[1000 rows x 8 columns]"
      ]
     },
     "execution_count": 4,
     "metadata": {},
     "output_type": "execute_result"
    }
   ],
   "source": [
    "df"
   ]
  },
  {
   "cell_type": "markdown",
   "id": "c77dba36-5baa-439b-9f7d-5e183db6e5f3",
   "metadata": {},
   "source": [
    "# **Basic Metrics**"
   ]
  },
  {
   "cell_type": "code",
   "execution_count": 6,
   "id": "0a873fd7-fd25-4e38-808e-98e19463f9dc",
   "metadata": {},
   "outputs": [
    {
     "data": {
      "text/plain": [
       "(1000, 8)"
      ]
     },
     "execution_count": 6,
     "metadata": {},
     "output_type": "execute_result"
    }
   ],
   "source": [
    "# The dimensions of the provided dataset.\n",
    "df.shape "
   ]
  },
  {
   "cell_type": "code",
   "execution_count": 7,
   "id": "cd6bbe81-d320-46f8-b97d-fee72c564ecb",
   "metadata": {},
   "outputs": [
    {
     "data": {
      "text/plain": [
       "Index(['Date of Birth', 'What is your current profession?',\n",
       "       'What is the year of completion of your Highest Education Qualification?',\n",
       "       'Which of the following best describes you?',\n",
       "       'Please mention the name of the institute where you have completed or are currently pursuing your Data Science Certification Course.',\n",
       "       'In case your certification institute is \"Innomatics Research Labs\", please provide your Enrolled Batch Number.',\n",
       "       'Please indicate the time that suits you for your daily LIVE interaction with our Chief Data Scientist as part of your internship.',\n",
       "       'What do you think are most important skill right now for a skilled Data Scientist?'],\n",
       "      dtype='object')"
      ]
     },
     "execution_count": 7,
     "metadata": {},
     "output_type": "execute_result"
    }
   ],
   "source": [
    "# The columns size of the provided dataset\n",
    "df.columns"
   ]
  },
  {
   "cell_type": "code",
   "execution_count": 8,
   "id": "23541e63-0cbe-419e-a467-68baf532423e",
   "metadata": {},
   "outputs": [
    {
     "data": {
      "text/plain": [
       "Index(['dob', 'current_profession', 'degree_yoc', 'ds_course_enrolment',\n",
       "       'ds_course_institute', 'innomatics_batch_number',\n",
       "       'internship_timing_preference', 'ds_imp_skills'],\n",
       "      dtype='object')"
      ]
     },
     "execution_count": 8,
     "metadata": {},
     "output_type": "execute_result"
    }
   ],
   "source": [
    "# The dataset columns have been renamed to concise and professional terms\n",
    "df.columns = ['dob', 'current_profession', 'degree_yoc', 'ds_course_enrolment', 'ds_course_institute', \n",
    "              'innomatics_batch_number', 'internship_timing_preference', 'ds_imp_skills'\n",
    "             ]\n",
    "df.columns"
   ]
  },
  {
   "cell_type": "code",
   "execution_count": 9,
   "id": "e3d02812-d944-4d46-aa0f-bbed1cdb512d",
   "metadata": {},
   "outputs": [
    {
     "data": {
      "text/html": [
       "<div>\n",
       "<style scoped>\n",
       "    .dataframe tbody tr th:only-of-type {\n",
       "        vertical-align: middle;\n",
       "    }\n",
       "\n",
       "    .dataframe tbody tr th {\n",
       "        vertical-align: top;\n",
       "    }\n",
       "\n",
       "    .dataframe thead th {\n",
       "        text-align: right;\n",
       "    }\n",
       "</style>\n",
       "<table border=\"1\" class=\"dataframe\">\n",
       "  <thead>\n",
       "    <tr style=\"text-align: right;\">\n",
       "      <th></th>\n",
       "      <th>dob</th>\n",
       "      <th>current_profession</th>\n",
       "      <th>degree_yoc</th>\n",
       "      <th>ds_course_enrolment</th>\n",
       "      <th>ds_course_institute</th>\n",
       "      <th>innomatics_batch_number</th>\n",
       "      <th>internship_timing_preference</th>\n",
       "      <th>ds_imp_skills</th>\n",
       "    </tr>\n",
       "  </thead>\n",
       "  <tbody>\n",
       "    <tr>\n",
       "      <th>0</th>\n",
       "      <td>9/16/2000</td>\n",
       "      <td>Fresher (I have completed my Education and loo...</td>\n",
       "      <td>7/30/2023</td>\n",
       "      <td>I am currently enrolled in a Data Science cert...</td>\n",
       "      <td>Innomatics Research Labs</td>\n",
       "      <td>251</td>\n",
       "      <td>6:00 to 7:00 PM IST</td>\n",
       "      <td>Extracting actionable insights from the raw da...</td>\n",
       "    </tr>\n",
       "    <tr>\n",
       "      <th>1</th>\n",
       "      <td>2/6/1998</td>\n",
       "      <td>Fresher (I have completed my Education and loo...</td>\n",
       "      <td>5/18/2022</td>\n",
       "      <td>I have never enrolled in any certification cou...</td>\n",
       "      <td>NaN</td>\n",
       "      <td>NaN</td>\n",
       "      <td>6:00 to 7:00 PM IST</td>\n",
       "      <td>Extracting actionable insights from the raw data</td>\n",
       "    </tr>\n",
       "    <tr>\n",
       "      <th>2</th>\n",
       "      <td>10/8/2003</td>\n",
       "      <td>Student (I am currently enrolled in some Educa...</td>\n",
       "      <td>4/1/2025</td>\n",
       "      <td>I am currently enrolled in a Data Science cert...</td>\n",
       "      <td>NaN</td>\n",
       "      <td>NaN</td>\n",
       "      <td>6:00 to 7:00 PM IST</td>\n",
       "      <td>Data Modelling</td>\n",
       "    </tr>\n",
       "    <tr>\n",
       "      <th>3</th>\n",
       "      <td>11/29/2001</td>\n",
       "      <td>Student (I am currently enrolled in some Educa...</td>\n",
       "      <td>5/15/2024</td>\n",
       "      <td>I have never enrolled in any certification cou...</td>\n",
       "      <td>NaN</td>\n",
       "      <td>NaN</td>\n",
       "      <td>5:00 to 6:00 PM IST</td>\n",
       "      <td>Extracting actionable insights from the raw da...</td>\n",
       "    </tr>\n",
       "    <tr>\n",
       "      <th>4</th>\n",
       "      <td>11/25/2004</td>\n",
       "      <td>Student (I am currently enrolled in some Educa...</td>\n",
       "      <td>1/10/2026</td>\n",
       "      <td>I have completed a Data Science certification ...</td>\n",
       "      <td>Velagapudi ramakrishna Siddhartha college</td>\n",
       "      <td>Na</td>\n",
       "      <td>6:00 to 7:00 PM IST</td>\n",
       "      <td>Extracting actionable insights from the raw da...</td>\n",
       "    </tr>\n",
       "    <tr>\n",
       "      <th>...</th>\n",
       "      <td>...</td>\n",
       "      <td>...</td>\n",
       "      <td>...</td>\n",
       "      <td>...</td>\n",
       "      <td>...</td>\n",
       "      <td>...</td>\n",
       "      <td>...</td>\n",
       "      <td>...</td>\n",
       "    </tr>\n",
       "    <tr>\n",
       "      <th>995</th>\n",
       "      <td>8/28/1998</td>\n",
       "      <td>Fresher (I have completed my Education and loo...</td>\n",
       "      <td>11/15/2022</td>\n",
       "      <td>I have completed a Data Science certification ...</td>\n",
       "      <td>DevTown</td>\n",
       "      <td>NaN</td>\n",
       "      <td>6:00 to 7:00 PM IST</td>\n",
       "      <td>Extracting actionable insights from the raw da...</td>\n",
       "    </tr>\n",
       "    <tr>\n",
       "      <th>996</th>\n",
       "      <td>4/22/2004</td>\n",
       "      <td>Student (I am currently enrolled in some Educa...</td>\n",
       "      <td>7/23/2026</td>\n",
       "      <td>I am currently enrolled in a Data Science cert...</td>\n",
       "      <td>ONLINE COURSE</td>\n",
       "      <td>NaN</td>\n",
       "      <td>6:00 to 7:00 PM IST</td>\n",
       "      <td>LLMs</td>\n",
       "    </tr>\n",
       "    <tr>\n",
       "      <th>997</th>\n",
       "      <td>6/8/2000</td>\n",
       "      <td>Student (I am currently enrolled in some Educa...</td>\n",
       "      <td>5/31/2024</td>\n",
       "      <td>I have completed a Data Science certification ...</td>\n",
       "      <td>Chandigarh University</td>\n",
       "      <td>NaN</td>\n",
       "      <td>6:00 to 7:00 PM IST</td>\n",
       "      <td>Extracting actionable insights from the raw da...</td>\n",
       "    </tr>\n",
       "    <tr>\n",
       "      <th>998</th>\n",
       "      <td>6/3/2003</td>\n",
       "      <td>Student (I am currently enrolled in some Educa...</td>\n",
       "      <td>5/30/2025</td>\n",
       "      <td>I have never enrolled in any certification cou...</td>\n",
       "      <td>NaN</td>\n",
       "      <td>NaN</td>\n",
       "      <td>6:00 to 7:00 PM IST</td>\n",
       "      <td>Extracting actionable insights from the raw da...</td>\n",
       "    </tr>\n",
       "    <tr>\n",
       "      <th>999</th>\n",
       "      <td>7/24/2003</td>\n",
       "      <td>Student (I am currently enrolled in some Educa...</td>\n",
       "      <td>5/25/2025</td>\n",
       "      <td>I am currently enrolled in a Data Science cert...</td>\n",
       "      <td>Birla Institute of Technology and Science, Pil...</td>\n",
       "      <td>NaN</td>\n",
       "      <td>6:00 to 7:00 PM IST</td>\n",
       "      <td>LLMs, MLOps, Prompt Engineering</td>\n",
       "    </tr>\n",
       "  </tbody>\n",
       "</table>\n",
       "<p>1000 rows × 8 columns</p>\n",
       "</div>"
      ],
      "text/plain": [
       "            dob                                 current_profession  \\\n",
       "0     9/16/2000  Fresher (I have completed my Education and loo...   \n",
       "1      2/6/1998  Fresher (I have completed my Education and loo...   \n",
       "2     10/8/2003  Student (I am currently enrolled in some Educa...   \n",
       "3    11/29/2001  Student (I am currently enrolled in some Educa...   \n",
       "4    11/25/2004  Student (I am currently enrolled in some Educa...   \n",
       "..          ...                                                ...   \n",
       "995   8/28/1998  Fresher (I have completed my Education and loo...   \n",
       "996   4/22/2004  Student (I am currently enrolled in some Educa...   \n",
       "997    6/8/2000  Student (I am currently enrolled in some Educa...   \n",
       "998    6/3/2003  Student (I am currently enrolled in some Educa...   \n",
       "999   7/24/2003  Student (I am currently enrolled in some Educa...   \n",
       "\n",
       "     degree_yoc                                ds_course_enrolment  \\\n",
       "0     7/30/2023  I am currently enrolled in a Data Science cert...   \n",
       "1     5/18/2022  I have never enrolled in any certification cou...   \n",
       "2      4/1/2025  I am currently enrolled in a Data Science cert...   \n",
       "3     5/15/2024  I have never enrolled in any certification cou...   \n",
       "4     1/10/2026  I have completed a Data Science certification ...   \n",
       "..          ...                                                ...   \n",
       "995  11/15/2022  I have completed a Data Science certification ...   \n",
       "996   7/23/2026  I am currently enrolled in a Data Science cert...   \n",
       "997   5/31/2024  I have completed a Data Science certification ...   \n",
       "998   5/30/2025  I have never enrolled in any certification cou...   \n",
       "999   5/25/2025  I am currently enrolled in a Data Science cert...   \n",
       "\n",
       "                                   ds_course_institute  \\\n",
       "0                             Innomatics Research Labs   \n",
       "1                                                  NaN   \n",
       "2                                                  NaN   \n",
       "3                                                  NaN   \n",
       "4           Velagapudi ramakrishna Siddhartha college    \n",
       "..                                                 ...   \n",
       "995                                            DevTown   \n",
       "996                                     ONLINE COURSE    \n",
       "997                             Chandigarh University    \n",
       "998                                                NaN   \n",
       "999  Birla Institute of Technology and Science, Pil...   \n",
       "\n",
       "    innomatics_batch_number internship_timing_preference  \\\n",
       "0                       251          6:00 to 7:00 PM IST   \n",
       "1                       NaN          6:00 to 7:00 PM IST   \n",
       "2                       NaN          6:00 to 7:00 PM IST   \n",
       "3                       NaN          5:00 to 6:00 PM IST   \n",
       "4                        Na          6:00 to 7:00 PM IST   \n",
       "..                      ...                          ...   \n",
       "995                     NaN          6:00 to 7:00 PM IST   \n",
       "996                     NaN          6:00 to 7:00 PM IST   \n",
       "997                     NaN          6:00 to 7:00 PM IST   \n",
       "998                     NaN          6:00 to 7:00 PM IST   \n",
       "999                     NaN          6:00 to 7:00 PM IST   \n",
       "\n",
       "                                         ds_imp_skills  \n",
       "0    Extracting actionable insights from the raw da...  \n",
       "1     Extracting actionable insights from the raw data  \n",
       "2                                       Data Modelling  \n",
       "3    Extracting actionable insights from the raw da...  \n",
       "4    Extracting actionable insights from the raw da...  \n",
       "..                                                 ...  \n",
       "995  Extracting actionable insights from the raw da...  \n",
       "996                                               LLMs  \n",
       "997  Extracting actionable insights from the raw da...  \n",
       "998  Extracting actionable insights from the raw da...  \n",
       "999                    LLMs, MLOps, Prompt Engineering  \n",
       "\n",
       "[1000 rows x 8 columns]"
      ]
     },
     "execution_count": 9,
     "metadata": {},
     "output_type": "execute_result"
    }
   ],
   "source": [
    "df"
   ]
  },
  {
   "cell_type": "code",
   "execution_count": 10,
   "id": "53925af9-6cce-42aa-9b89-24483ff2341e",
   "metadata": {},
   "outputs": [
    {
     "name": "stdout",
     "output_type": "stream",
     "text": [
      "<class 'pandas.core.frame.DataFrame'>\n",
      "RangeIndex: 1000 entries, 0 to 999\n",
      "Data columns (total 8 columns):\n",
      " #   Column                        Non-Null Count  Dtype \n",
      "---  ------                        --------------  ----- \n",
      " 0   dob                           1000 non-null   object\n",
      " 1   current_profession            1000 non-null   object\n",
      " 2   degree_yoc                    1000 non-null   object\n",
      " 3   ds_course_enrolment           1000 non-null   object\n",
      " 4   ds_course_institute           678 non-null    object\n",
      " 5   innomatics_batch_number       338 non-null    object\n",
      " 6   internship_timing_preference  1000 non-null   object\n",
      " 7   ds_imp_skills                 1000 non-null   object\n",
      "dtypes: object(8)\n",
      "memory usage: 62.6+ KB\n"
     ]
    }
   ],
   "source": [
    "# Overview of the dataset structure\n",
    "df.info()"
   ]
  },
  {
   "cell_type": "code",
   "execution_count": 11,
   "id": "27e63680-e3a2-430e-a5c0-bc23c8fe6603",
   "metadata": {},
   "outputs": [
    {
     "data": {
      "text/html": [
       "<div>\n",
       "<style scoped>\n",
       "    .dataframe tbody tr th:only-of-type {\n",
       "        vertical-align: middle;\n",
       "    }\n",
       "\n",
       "    .dataframe tbody tr th {\n",
       "        vertical-align: top;\n",
       "    }\n",
       "\n",
       "    .dataframe thead th {\n",
       "        text-align: right;\n",
       "    }\n",
       "</style>\n",
       "<table border=\"1\" class=\"dataframe\">\n",
       "  <thead>\n",
       "    <tr style=\"text-align: right;\">\n",
       "      <th></th>\n",
       "      <th>dob</th>\n",
       "      <th>current_profession</th>\n",
       "      <th>degree_yoc</th>\n",
       "      <th>ds_course_enrolment</th>\n",
       "      <th>ds_course_institute</th>\n",
       "      <th>innomatics_batch_number</th>\n",
       "      <th>internship_timing_preference</th>\n",
       "      <th>ds_imp_skills</th>\n",
       "    </tr>\n",
       "  </thead>\n",
       "  <tbody>\n",
       "    <tr>\n",
       "      <th>8</th>\n",
       "      <td>10/30/2003</td>\n",
       "      <td>Student (I am currently enrolled in some Educa...</td>\n",
       "      <td>4/30/2025</td>\n",
       "      <td>I have never enrolled in any certification cou...</td>\n",
       "      <td>NaN</td>\n",
       "      <td>NaN</td>\n",
       "      <td>6:00 to 7:00 PM IST</td>\n",
       "      <td>Basics of backend application development usin...</td>\n",
       "    </tr>\n",
       "    <tr>\n",
       "      <th>221</th>\n",
       "      <td>3/22/2004</td>\n",
       "      <td>Student (I am currently enrolled in some Educa...</td>\n",
       "      <td>5/31/2025</td>\n",
       "      <td>I am currently enrolled in a Data Science cert...</td>\n",
       "      <td>Cisco networking academy</td>\n",
       "      <td>NaN</td>\n",
       "      <td>6:00 to 7:00 PM IST</td>\n",
       "      <td>Extracting actionable insights from the raw da...</td>\n",
       "    </tr>\n",
       "    <tr>\n",
       "      <th>341</th>\n",
       "      <td>3/22/2004</td>\n",
       "      <td>Student (I am currently enrolled in some Educa...</td>\n",
       "      <td>5/31/2025</td>\n",
       "      <td>I am currently enrolled in a Data Science cert...</td>\n",
       "      <td>Cisco networking academy</td>\n",
       "      <td>NaN</td>\n",
       "      <td>6:00 to 7:00 PM IST</td>\n",
       "      <td>Extracting actionable insights from the raw da...</td>\n",
       "    </tr>\n",
       "    <tr>\n",
       "      <th>384</th>\n",
       "      <td>10/30/2003</td>\n",
       "      <td>Student (I am currently enrolled in some Educa...</td>\n",
       "      <td>4/30/2025</td>\n",
       "      <td>I have never enrolled in any certification cou...</td>\n",
       "      <td>NaN</td>\n",
       "      <td>NaN</td>\n",
       "      <td>6:00 to 7:00 PM IST</td>\n",
       "      <td>Basics of backend application development usin...</td>\n",
       "    </tr>\n",
       "  </tbody>\n",
       "</table>\n",
       "</div>"
      ],
      "text/plain": [
       "            dob                                 current_profession degree_yoc  \\\n",
       "8    10/30/2003  Student (I am currently enrolled in some Educa...  4/30/2025   \n",
       "221   3/22/2004  Student (I am currently enrolled in some Educa...  5/31/2025   \n",
       "341   3/22/2004  Student (I am currently enrolled in some Educa...  5/31/2025   \n",
       "384  10/30/2003  Student (I am currently enrolled in some Educa...  4/30/2025   \n",
       "\n",
       "                                   ds_course_enrolment  \\\n",
       "8    I have never enrolled in any certification cou...   \n",
       "221  I am currently enrolled in a Data Science cert...   \n",
       "341  I am currently enrolled in a Data Science cert...   \n",
       "384  I have never enrolled in any certification cou...   \n",
       "\n",
       "           ds_course_institute innomatics_batch_number  \\\n",
       "8                          NaN                     NaN   \n",
       "221  Cisco networking academy                      NaN   \n",
       "341  Cisco networking academy                      NaN   \n",
       "384                        NaN                     NaN   \n",
       "\n",
       "    internship_timing_preference  \\\n",
       "8            6:00 to 7:00 PM IST   \n",
       "221          6:00 to 7:00 PM IST   \n",
       "341          6:00 to 7:00 PM IST   \n",
       "384          6:00 to 7:00 PM IST   \n",
       "\n",
       "                                         ds_imp_skills  \n",
       "8    Basics of backend application development usin...  \n",
       "221  Extracting actionable insights from the raw da...  \n",
       "341  Extracting actionable insights from the raw da...  \n",
       "384  Basics of backend application development usin...  "
      ]
     },
     "execution_count": 11,
     "metadata": {},
     "output_type": "execute_result"
    }
   ],
   "source": [
    "#  Verify if duplicates exist in the dataset\n",
    "df[df.duplicated(keep=False)]"
   ]
  },
  {
   "cell_type": "code",
   "execution_count": 12,
   "id": "a66173a8-6a48-4fb0-b36a-3acacd432c2f",
   "metadata": {},
   "outputs": [
    {
     "data": {
      "text/plain": [
       "(998, 8)"
      ]
     },
     "execution_count": 12,
     "metadata": {},
     "output_type": "execute_result"
    }
   ],
   "source": [
    "# Remove all duplicate values from the dataset\n",
    "df_no_dup =df.drop_duplicates()\n",
    "df_no_dup.shape"
   ]
  },
  {
   "cell_type": "markdown",
   "id": "14a9710b-36a2-4c40-9239-2def734efa97",
   "metadata": {},
   "source": [
    "# Task - Analyzing Interns Data"
   ]
  },
  {
   "cell_type": "markdown",
   "id": "6b42a0cb-463b-48bd-8a4f-d1509f6c102b",
   "metadata": {},
   "source": [
    "# **What is the current profession of most interns?**"
   ]
  },
  {
   "cell_type": "code",
   "execution_count": 13,
   "id": "d0b9567b-9874-43a6-904c-d4c0ecfd5f51",
   "metadata": {},
   "outputs": [
    {
     "data": {
      "text/plain": [
       "current_profession\n",
       "Student (I am currently enrolled in some Educational Program)                          488\n",
       "Fresher (I have completed my Education and looking for a job now)                      424\n",
       "Working Professional (I have completed my Education and working full time)              62\n",
       "Freelancer (I have completed my Education and working part time or owns a business)     26\n",
       "Name: count, dtype: int64"
      ]
     },
     "execution_count": 13,
     "metadata": {},
     "output_type": "execute_result"
    }
   ],
   "source": [
    "df['current_profession'].value_counts()"
   ]
  },
  {
   "cell_type": "markdown",
   "id": "7c524de5-bdf5-4829-884f-1ed902c11173",
   "metadata": {},
   "source": [
    "# **What are the preferred LIVE session timings?**\n"
   ]
  },
  {
   "cell_type": "code",
   "execution_count": 14,
   "id": "0ba10264-80f9-425a-96bd-d3a5d8fcba80",
   "metadata": {},
   "outputs": [
    {
     "data": {
      "text/plain": [
       "internship_timing_preference\n",
       "6:00 to 7:00 PM IST    672\n",
       "5:00 to 6:00 PM IST    328\n",
       "Name: count, dtype: int64"
      ]
     },
     "execution_count": 14,
     "metadata": {},
     "output_type": "execute_result"
    }
   ],
   "source": [
    "df['internship_timing_preference'].value_counts()"
   ]
  },
  {
   "cell_type": "markdown",
   "id": "080fcb75-70c6-46d0-9cb4-bc44d68bf509",
   "metadata": {},
   "source": [
    "# **How many interns are enrolled or have completed their data science professional courses?**"
   ]
  },
  {
   "cell_type": "code",
   "execution_count": 15,
   "id": "b99570ad-cd87-4fe8-b6d2-e239d471dfca",
   "metadata": {},
   "outputs": [
    {
     "data": {
      "text/plain": [
       "ds_course_enrolment\n",
       "I am currently enrolled in a Data Science certification course    405\n",
       "I have never enrolled in any certification courses                302\n",
       "I have completed a Data Science certification course              293\n",
       "Name: count, dtype: int64"
      ]
     },
     "execution_count": 15,
     "metadata": {},
     "output_type": "execute_result"
    }
   ],
   "source": [
    "df['ds_course_enrolment'].value_counts()"
   ]
  },
  {
   "cell_type": "code",
   "execution_count": 16,
   "id": "215a35a9-4196-4113-aaf7-539404ded17c",
   "metadata": {},
   "outputs": [
    {
     "data": {
      "text/plain": [
       "698"
      ]
     },
     "execution_count": 16,
     "metadata": {},
     "output_type": "execute_result"
    }
   ],
   "source": [
    "df['ds_course_enrolment'].value_counts().values[0]+df['ds_course_enrolment'].value_counts().values[2]"
   ]
  },
  {
   "cell_type": "code",
   "execution_count": 17,
   "id": "15a7b4b4-896c-454d-82f2-ff4798261369",
   "metadata": {},
   "outputs": [
    {
     "data": {
      "text/plain": [
       "697"
      ]
     },
     "execution_count": 17,
     "metadata": {},
     "output_type": "execute_result"
    }
   ],
   "source": [
    "# without duplicates\n",
    "df_no_dup['ds_course_enrolment'].value_counts().values[0] + df_no_dup['ds_course_enrolment'].value_counts().values[2]"
   ]
  },
  {
   "cell_type": "markdown",
   "id": "aa6eb6ef-e1ea-43ee-aadf-8e96dc25d111",
   "metadata": {},
   "source": [
    "# **For interns who never enrolled in a data science certification course, what is the current profession of the majority of them?**"
   ]
  },
  {
   "cell_type": "code",
   "execution_count": 18,
   "id": "d7b73e59-44fd-469c-afd2-8bc37c55e63c",
   "metadata": {},
   "outputs": [],
   "source": [
    "grouped_df =df.groupby('ds_course_enrolment')"
   ]
  },
  {
   "cell_type": "code",
   "execution_count": 19,
   "id": "85c1e30d-1bee-4611-81c4-91594d69d50f",
   "metadata": {},
   "outputs": [
    {
     "data": {
      "text/plain": [
       "['I am currently enrolled in a Data Science certification course',\n",
       " 'I have completed a Data Science certification course',\n",
       " 'I have never enrolled in any certification courses']"
      ]
     },
     "execution_count": 19,
     "metadata": {},
     "output_type": "execute_result"
    }
   ],
   "source": [
    "group = list(grouped_df.groups.keys())\n",
    "group"
   ]
  },
  {
   "cell_type": "code",
   "execution_count": 20,
   "id": "efe5fbc8-e001-4ce7-b57b-9655232d69d4",
   "metadata": {},
   "outputs": [
    {
     "data": {
      "text/plain": [
       "<Axes: ylabel='current_profession'>"
      ]
     },
     "execution_count": 20,
     "metadata": {},
     "output_type": "execute_result"
    },
    {
     "data": {
      "image/png": "[encoded data removed]",
      "text/plain": [
       "<Figure size 640x480 with 1 Axes>"
      ]
     },
     "metadata": {},
     "output_type": "display_data"
    }
   ],
   "source": [
    "# I am currently entolled in a data science certification course\n",
    "grouped_df.get_group(group[0])['current_profession'].value_counts().plot(kind='barh')"
   ]
  },
  {
   "cell_type": "code",
   "execution_count": 21,
   "id": "6033e90d-9c9e-4a07-82f5-ae8ec1ba2df9",
   "metadata": {},
   "outputs": [
    {
     "data": {
      "text/html": [
       "<div>\n",
       "<style scoped>\n",
       "    .dataframe tbody tr th:only-of-type {\n",
       "        vertical-align: middle;\n",
       "    }\n",
       "\n",
       "    .dataframe tbody tr th {\n",
       "        vertical-align: top;\n",
       "    }\n",
       "\n",
       "    .dataframe thead th {\n",
       "        text-align: right;\n",
       "    }\n",
       "</style>\n",
       "<table border=\"1\" class=\"dataframe\">\n",
       "  <thead>\n",
       "    <tr style=\"text-align: right;\">\n",
       "      <th>current_profession</th>\n",
       "      <th>Freelancer (I have completed my Education and working part time or owns a business)</th>\n",
       "      <th>Fresher (I have completed my Education and looking for a job now)</th>\n",
       "      <th>Student (I am currently enrolled in some Educational Program)</th>\n",
       "      <th>Working Professional (I have completed my Education and working full time)</th>\n",
       "    </tr>\n",
       "    <tr>\n",
       "      <th>ds_course_enrolment</th>\n",
       "      <th></th>\n",
       "      <th></th>\n",
       "      <th></th>\n",
       "      <th></th>\n",
       "    </tr>\n",
       "  </thead>\n",
       "  <tbody>\n",
       "    <tr>\n",
       "      <th>I am currently enrolled in a Data Science certification course</th>\n",
       "      <td>0.029630</td>\n",
       "      <td>0.486420</td>\n",
       "      <td>0.417284</td>\n",
       "      <td>0.066667</td>\n",
       "    </tr>\n",
       "    <tr>\n",
       "      <th>I have completed a Data Science certification course</th>\n",
       "      <td>0.037543</td>\n",
       "      <td>0.477816</td>\n",
       "      <td>0.409556</td>\n",
       "      <td>0.075085</td>\n",
       "    </tr>\n",
       "    <tr>\n",
       "      <th>I have never enrolled in any certification courses</th>\n",
       "      <td>0.009934</td>\n",
       "      <td>0.288079</td>\n",
       "      <td>0.658940</td>\n",
       "      <td>0.043046</td>\n",
       "    </tr>\n",
       "  </tbody>\n",
       "</table>\n",
       "</div>"
      ],
      "text/plain": [
       "current_profession                                  Freelancer (I have completed my Education and working part time or owns a business)  \\\n",
       "ds_course_enrolment                                                                                                                       \n",
       "I am currently enrolled in a Data Science certi...                                           0.029630                                     \n",
       "I have completed a Data Science certification c...                                           0.037543                                     \n",
       "I have never enrolled in any certification courses                                           0.009934                                     \n",
       "\n",
       "current_profession                                  Fresher (I have completed my Education and looking for a job now)  \\\n",
       "ds_course_enrolment                                                                                                     \n",
       "I am currently enrolled in a Data Science certi...                                           0.486420                   \n",
       "I have completed a Data Science certification c...                                           0.477816                   \n",
       "I have never enrolled in any certification courses                                           0.288079                   \n",
       "\n",
       "current_profession                                  Student (I am currently enrolled in some Educational Program)  \\\n",
       "ds_course_enrolment                                                                                                 \n",
       "I am currently enrolled in a Data Science certi...                                           0.417284               \n",
       "I have completed a Data Science certification c...                                           0.409556               \n",
       "I have never enrolled in any certification courses                                           0.658940               \n",
       "\n",
       "current_profession                                  Working Professional (I have completed my Education and working full time)  \n",
       "ds_course_enrolment                                                                                                             \n",
       "I am currently enrolled in a Data Science certi...                                           0.066667                           \n",
       "I have completed a Data Science certification c...                                           0.075085                           \n",
       "I have never enrolled in any certification courses                                           0.043046                           "
      ]
     },
     "execution_count": 21,
     "metadata": {},
     "output_type": "execute_result"
    }
   ],
   "source": [
    " pd.crosstab(df['ds_course_enrolment'], df['current_profession'],normalize = 'index')"
   ]
  },
  {
   "cell_type": "code",
   "execution_count": 22,
   "id": "edf6a309-b267-43f0-9dcb-fe27b6a85411",
   "metadata": {},
   "outputs": [
    {
     "data": {
      "text/plain": [
       "<matplotlib.legend.Legend at 0x256b31e7380>"
      ]
     },
     "execution_count": 22,
     "metadata": {},
     "output_type": "execute_result"
    },
    {
     "data": {
      "image/png": "[encoded data removed]",
      "text/plain": [
       "<Figure size 640x480 with 1 Axes>"
      ]
     },
     "metadata": {},
     "output_type": "display_data"
    }
   ],
   "source": [
    "tab = pd.crosstab(df['ds_course_enrolment'],df['current_profession'],normalize='index')\n",
    "tab.plot(kind='barh')\n",
    "# Display the legend outside the axes\n",
    "plt.legend(bbox_to_anchor=(1,1))"
   ]
  },
  {
   "cell_type": "markdown",
   "id": "170201ac-b81f-4da5-8486-86ca6d96158b",
   "metadata": {},
   "source": [
    "# **Which skill is the third most important for a data scientist?**"
   ]
  },
  {
   "cell_type": "code",
   "execution_count": 23,
   "id": "78ee252f-83d6-4782-b87c-1c3e1121b76b",
   "metadata": {},
   "outputs": [
    {
     "data": {
      "text/plain": [
       "Index(['dob', 'current_profession', 'degree_yoc', 'ds_course_enrolment',\n",
       "       'ds_course_institute', 'innomatics_batch_number',\n",
       "       'internship_timing_preference', 'ds_imp_skills'],\n",
       "      dtype='object')"
      ]
     },
     "execution_count": 23,
     "metadata": {},
     "output_type": "execute_result"
    }
   ],
   "source": [
    "df.columns"
   ]
  },
  {
   "cell_type": "code",
   "execution_count": 24,
   "id": "e6f62993-95f8-4d6b-838b-0a4c53d22f93",
   "metadata": {},
   "outputs": [
    {
     "data": {
      "text/plain": [
       "ds_imp_skills\n",
       "Extracting actionable insights from the raw data, Data Modelling, LLMs, MLOps, Basics of backend application development using python, Prompt Engineering    214\n",
       "Extracting actionable insights from the raw data, Data Modelling, MLOps                                                                                       73\n",
       "Extracting actionable insights from the raw data, Data Modelling                                                                                              70\n",
       "Extracting actionable insights from the raw data, Data Modelling, LLMs, MLOps                                                                                 66\n",
       "Extracting actionable insights from the raw data, Data Modelling, Basics of backend application development using python                                      59\n",
       "Extracting actionable insights from the raw data, Data Modelling, MLOps, Basics of backend application development using python                               51\n",
       "Extracting actionable insights from the raw data, Data Modelling, LLMs, MLOps, Basics of backend application development using python                         42\n",
       "Extracting actionable insights from the raw data                                                                                                              41\n",
       "Extracting actionable insights from the raw data, Data Modelling, LLMs, MLOps, Prompt Engineering                                                             31\n",
       "Extracting actionable insights from the raw data, Data Modelling, LLMs                                                                                        31\n",
       "Extracting actionable insights from the raw data, Data Modelling, Basics of backend application development using python, Prompt Engineering                  27\n",
       "Extracting actionable insights from the raw data, Data Modelling, LLMs, Basics of backend application development using python                                25\n",
       "Extracting actionable insights from the raw data, Data Modelling, Prompt Engineering                                                                          25\n",
       "Basics of backend application development using python                                                                                                        20\n",
       "Extracting actionable insights from the raw data, Data Modelling, LLMs, Prompt Engineering                                                                    18\n",
       "Extracting actionable insights from the raw data, Data Modelling, MLOps, Prompt Engineering                                                                   14\n",
       "Data Modelling                                                                                                                                                14\n",
       "Extracting actionable insights from the raw data, Data Modelling, LLMs, Basics of backend application development using python, Prompt Engineering            13\n",
       "LLMs, MLOps, Prompt Engineering                                                                                                                               10\n",
       "Extracting actionable insights from the raw data, LLMs, MLOps                                                                                                 10\n",
       "Data Modelling, LLMs, MLOps                                                                                                                                    9\n",
       "Extracting actionable insights from the raw data, Basics of backend application development using python                                                       8\n",
       "MLOps                                                                                                                                                          8\n",
       "Data Modelling, MLOps, Basics of backend application development using python                                                                                  7\n",
       "Prompt Engineering                                                                                                                                             7\n",
       "Extracting actionable insights from the raw data, LLMs, MLOps, Prompt Engineering                                                                              6\n",
       "Extracting actionable insights from the raw data, MLOps                                                                                                        6\n",
       "Extracting actionable insights from the raw data, Data Modelling, MLOps, Basics of backend application development using python, Prompt Engineering            6\n",
       "Data Modelling, LLMs, MLOps, Prompt Engineering                                                                                                                6\n",
       "LLMs, MLOps                                                                                                                                                    5\n",
       "Basics of backend application development using python, Prompt Engineering                                                                                     5\n",
       "Extracting actionable insights from the raw data, Basics of backend application development using python, Prompt Engineering                                   5\n",
       "Extracting actionable insights from the raw data, LLMs, MLOps, Basics of backend application development using python                                          5\n",
       "Extracting actionable insights from the raw data, LLMs, Prompt Engineering                                                                                     5\n",
       "Data Modelling, Basics of backend application development using python                                                                                         4\n",
       "LLMs                                                                                                                                                           4\n",
       "Data Modelling, LLMs, MLOps, Basics of backend application development using python, Prompt Engineering                                                        4\n",
       "LLMs, MLOps, Basics of backend application development using python, Prompt Engineering                                                                        3\n",
       "Extracting actionable insights from the raw data, MLOps, Prompt Engineering                                                                                    3\n",
       "Extracting actionable insights from the raw data, Prompt Engineering                                                                                           3\n",
       "Data Modelling, LLMs, Basics of backend application development using python, Prompt Engineering                                                               3\n",
       "Data Modelling, LLMs, MLOps, Basics of backend application development using python                                                                            3\n",
       "Data Modelling, LLMs                                                                                                                                           3\n",
       "Extracting actionable insights from the raw data, LLMs, Basics of backend application development using python                                                 3\n",
       "Extracting actionable insights from the raw data, LLMs, MLOps, Basics of backend application development using python, Prompt Engineering                      2\n",
       "Data Modelling, LLMs, Prompt Engineering                                                                                                                       2\n",
       "Extracting actionable insights from the raw data, LLMs                                                                                                         2\n",
       "Data Modelling, MLOps, Basics of backend application development using python, Prompt Engineering                                                              2\n",
       "LLMs, Basics of backend application development using python, Prompt Engineering                                                                               2\n",
       "Extracting actionable insights from the raw data, LLMs, Basics of backend application development using python, Prompt Engineering                             2\n",
       "Data Modelling, MLOps                                                                                                                                          2\n",
       "LLMs, Prompt Engineering                                                                                                                                       2\n",
       "Extracting actionable insights from the raw data, MLOps, Basics of backend application development using python, Prompt Engineering                            2\n",
       "Extracting actionable insights from the raw data, MLOps, Basics of backend application development using python                                                1\n",
       "Data Modelling, MLOps, Prompt Engineering                                                                                                                      1\n",
       "LLMs, Basics of backend application development using python                                                                                                   1\n",
       "LLMs, MLOps, Basics of backend application development using python                                                                                            1\n",
       "MLOps, Basics of backend application development using python                                                                                                  1\n",
       "MLOps, Basics of backend application development using python, Prompt Engineering                                                                              1\n",
       "MLOps, Prompt Engineering                                                                                                                                      1\n",
       "Name: count, dtype: int64"
      ]
     },
     "execution_count": 24,
     "metadata": {},
     "output_type": "execute_result"
    }
   ],
   "source": [
    "df['ds_imp_skills'].value_counts()"
   ]
  },
  {
   "cell_type": "code",
   "execution_count": 25,
   "id": "a4d25c4f-d872-466a-8992-273cba75fc63",
   "metadata": {},
   "outputs": [
    {
     "data": {
      "text/plain": [
       "60"
      ]
     },
     "execution_count": 25,
     "metadata": {},
     "output_type": "execute_result"
    }
   ],
   "source": [
    "df['ds_imp_skills'].nunique()"
   ]
  },
  {
   "cell_type": "markdown",
   "id": "6184af3f-b7fa-4687-8188-0f0329a1a741",
   "metadata": {},
   "source": [
    "# **cleaning the data**"
   ]
  },
  {
   "cell_type": "code",
   "execution_count": 26,
   "id": "a9092868-7865-4447-820d-d255f2ba5fd9",
   "metadata": {},
   "outputs": [
    {
     "data": {
      "text/html": [
       "<div>\n",
       "<style scoped>\n",
       "    .dataframe tbody tr th:only-of-type {\n",
       "        vertical-align: middle;\n",
       "    }\n",
       "\n",
       "    .dataframe tbody tr th {\n",
       "        vertical-align: top;\n",
       "    }\n",
       "\n",
       "    .dataframe thead th {\n",
       "        text-align: right;\n",
       "    }\n",
       "</style>\n",
       "<table border=\"1\" class=\"dataframe\">\n",
       "  <thead>\n",
       "    <tr style=\"text-align: right;\">\n",
       "      <th></th>\n",
       "      <th>dob</th>\n",
       "      <th>current_profession</th>\n",
       "      <th>degree_yoc</th>\n",
       "      <th>ds_course_enrolment</th>\n",
       "      <th>ds_course_institute</th>\n",
       "      <th>innomatics_batch_number</th>\n",
       "      <th>internship_timing_preference</th>\n",
       "      <th>ds_imp_skills</th>\n",
       "    </tr>\n",
       "  </thead>\n",
       "  <tbody>\n",
       "    <tr>\n",
       "      <th>0</th>\n",
       "      <td>9/16/2000</td>\n",
       "      <td>Fresher (I have completed my Education and loo...</td>\n",
       "      <td>7/30/2023</td>\n",
       "      <td>I am currently enrolled in a Data Science cert...</td>\n",
       "      <td>Innomatics Research Labs</td>\n",
       "      <td>251</td>\n",
       "      <td>6:00 to 7:00 PM IST</td>\n",
       "      <td>[Extracting actionable insights from the raw d...</td>\n",
       "    </tr>\n",
       "    <tr>\n",
       "      <th>1</th>\n",
       "      <td>2/6/1998</td>\n",
       "      <td>Fresher (I have completed my Education and loo...</td>\n",
       "      <td>5/18/2022</td>\n",
       "      <td>I have never enrolled in any certification cou...</td>\n",
       "      <td>NaN</td>\n",
       "      <td>NaN</td>\n",
       "      <td>6:00 to 7:00 PM IST</td>\n",
       "      <td>[Extracting actionable insights from the raw d...</td>\n",
       "    </tr>\n",
       "    <tr>\n",
       "      <th>2</th>\n",
       "      <td>10/8/2003</td>\n",
       "      <td>Student (I am currently enrolled in some Educa...</td>\n",
       "      <td>4/1/2025</td>\n",
       "      <td>I am currently enrolled in a Data Science cert...</td>\n",
       "      <td>NaN</td>\n",
       "      <td>NaN</td>\n",
       "      <td>6:00 to 7:00 PM IST</td>\n",
       "      <td>[Data Modelling]</td>\n",
       "    </tr>\n",
       "    <tr>\n",
       "      <th>3</th>\n",
       "      <td>11/29/2001</td>\n",
       "      <td>Student (I am currently enrolled in some Educa...</td>\n",
       "      <td>5/15/2024</td>\n",
       "      <td>I have never enrolled in any certification cou...</td>\n",
       "      <td>NaN</td>\n",
       "      <td>NaN</td>\n",
       "      <td>5:00 to 6:00 PM IST</td>\n",
       "      <td>[Extracting actionable insights from the raw d...</td>\n",
       "    </tr>\n",
       "    <tr>\n",
       "      <th>4</th>\n",
       "      <td>11/25/2004</td>\n",
       "      <td>Student (I am currently enrolled in some Educa...</td>\n",
       "      <td>1/10/2026</td>\n",
       "      <td>I have completed a Data Science certification ...</td>\n",
       "      <td>Velagapudi ramakrishna Siddhartha college</td>\n",
       "      <td>Na</td>\n",
       "      <td>6:00 to 7:00 PM IST</td>\n",
       "      <td>[Extracting actionable insights from the raw d...</td>\n",
       "    </tr>\n",
       "    <tr>\n",
       "      <th>...</th>\n",
       "      <td>...</td>\n",
       "      <td>...</td>\n",
       "      <td>...</td>\n",
       "      <td>...</td>\n",
       "      <td>...</td>\n",
       "      <td>...</td>\n",
       "      <td>...</td>\n",
       "      <td>...</td>\n",
       "    </tr>\n",
       "    <tr>\n",
       "      <th>995</th>\n",
       "      <td>8/28/1998</td>\n",
       "      <td>Fresher (I have completed my Education and loo...</td>\n",
       "      <td>11/15/2022</td>\n",
       "      <td>I have completed a Data Science certification ...</td>\n",
       "      <td>DevTown</td>\n",
       "      <td>NaN</td>\n",
       "      <td>6:00 to 7:00 PM IST</td>\n",
       "      <td>[Extracting actionable insights from the raw d...</td>\n",
       "    </tr>\n",
       "    <tr>\n",
       "      <th>996</th>\n",
       "      <td>4/22/2004</td>\n",
       "      <td>Student (I am currently enrolled in some Educa...</td>\n",
       "      <td>7/23/2026</td>\n",
       "      <td>I am currently enrolled in a Data Science cert...</td>\n",
       "      <td>ONLINE COURSE</td>\n",
       "      <td>NaN</td>\n",
       "      <td>6:00 to 7:00 PM IST</td>\n",
       "      <td>[LLMs]</td>\n",
       "    </tr>\n",
       "    <tr>\n",
       "      <th>997</th>\n",
       "      <td>6/8/2000</td>\n",
       "      <td>Student (I am currently enrolled in some Educa...</td>\n",
       "      <td>5/31/2024</td>\n",
       "      <td>I have completed a Data Science certification ...</td>\n",
       "      <td>Chandigarh University</td>\n",
       "      <td>NaN</td>\n",
       "      <td>6:00 to 7:00 PM IST</td>\n",
       "      <td>[Extracting actionable insights from the raw d...</td>\n",
       "    </tr>\n",
       "    <tr>\n",
       "      <th>998</th>\n",
       "      <td>6/3/2003</td>\n",
       "      <td>Student (I am currently enrolled in some Educa...</td>\n",
       "      <td>5/30/2025</td>\n",
       "      <td>I have never enrolled in any certification cou...</td>\n",
       "      <td>NaN</td>\n",
       "      <td>NaN</td>\n",
       "      <td>6:00 to 7:00 PM IST</td>\n",
       "      <td>[Extracting actionable insights from the raw d...</td>\n",
       "    </tr>\n",
       "    <tr>\n",
       "      <th>999</th>\n",
       "      <td>7/24/2003</td>\n",
       "      <td>Student (I am currently enrolled in some Educa...</td>\n",
       "      <td>5/25/2025</td>\n",
       "      <td>I am currently enrolled in a Data Science cert...</td>\n",
       "      <td>Birla Institute of Technology and Science, Pil...</td>\n",
       "      <td>NaN</td>\n",
       "      <td>6:00 to 7:00 PM IST</td>\n",
       "      <td>[LLMs,  MLOps,  Prompt Engineering]</td>\n",
       "    </tr>\n",
       "  </tbody>\n",
       "</table>\n",
       "<p>1000 rows × 8 columns</p>\n",
       "</div>"
      ],
      "text/plain": [
       "            dob                                 current_profession  \\\n",
       "0     9/16/2000  Fresher (I have completed my Education and loo...   \n",
       "1      2/6/1998  Fresher (I have completed my Education and loo...   \n",
       "2     10/8/2003  Student (I am currently enrolled in some Educa...   \n",
       "3    11/29/2001  Student (I am currently enrolled in some Educa...   \n",
       "4    11/25/2004  Student (I am currently enrolled in some Educa...   \n",
       "..          ...                                                ...   \n",
       "995   8/28/1998  Fresher (I have completed my Education and loo...   \n",
       "996   4/22/2004  Student (I am currently enrolled in some Educa...   \n",
       "997    6/8/2000  Student (I am currently enrolled in some Educa...   \n",
       "998    6/3/2003  Student (I am currently enrolled in some Educa...   \n",
       "999   7/24/2003  Student (I am currently enrolled in some Educa...   \n",
       "\n",
       "     degree_yoc                                ds_course_enrolment  \\\n",
       "0     7/30/2023  I am currently enrolled in a Data Science cert...   \n",
       "1     5/18/2022  I have never enrolled in any certification cou...   \n",
       "2      4/1/2025  I am currently enrolled in a Data Science cert...   \n",
       "3     5/15/2024  I have never enrolled in any certification cou...   \n",
       "4     1/10/2026  I have completed a Data Science certification ...   \n",
       "..          ...                                                ...   \n",
       "995  11/15/2022  I have completed a Data Science certification ...   \n",
       "996   7/23/2026  I am currently enrolled in a Data Science cert...   \n",
       "997   5/31/2024  I have completed a Data Science certification ...   \n",
       "998   5/30/2025  I have never enrolled in any certification cou...   \n",
       "999   5/25/2025  I am currently enrolled in a Data Science cert...   \n",
       "\n",
       "                                   ds_course_institute  \\\n",
       "0                             Innomatics Research Labs   \n",
       "1                                                  NaN   \n",
       "2                                                  NaN   \n",
       "3                                                  NaN   \n",
       "4           Velagapudi ramakrishna Siddhartha college    \n",
       "..                                                 ...   \n",
       "995                                            DevTown   \n",
       "996                                     ONLINE COURSE    \n",
       "997                             Chandigarh University    \n",
       "998                                                NaN   \n",
       "999  Birla Institute of Technology and Science, Pil...   \n",
       "\n",
       "    innomatics_batch_number internship_timing_preference  \\\n",
       "0                       251          6:00 to 7:00 PM IST   \n",
       "1                       NaN          6:00 to 7:00 PM IST   \n",
       "2                       NaN          6:00 to 7:00 PM IST   \n",
       "3                       NaN          5:00 to 6:00 PM IST   \n",
       "4                        Na          6:00 to 7:00 PM IST   \n",
       "..                      ...                          ...   \n",
       "995                     NaN          6:00 to 7:00 PM IST   \n",
       "996                     NaN          6:00 to 7:00 PM IST   \n",
       "997                     NaN          6:00 to 7:00 PM IST   \n",
       "998                     NaN          6:00 to 7:00 PM IST   \n",
       "999                     NaN          6:00 to 7:00 PM IST   \n",
       "\n",
       "                                         ds_imp_skills  \n",
       "0    [Extracting actionable insights from the raw d...  \n",
       "1    [Extracting actionable insights from the raw d...  \n",
       "2                                     [Data Modelling]  \n",
       "3    [Extracting actionable insights from the raw d...  \n",
       "4    [Extracting actionable insights from the raw d...  \n",
       "..                                                 ...  \n",
       "995  [Extracting actionable insights from the raw d...  \n",
       "996                                             [LLMs]  \n",
       "997  [Extracting actionable insights from the raw d...  \n",
       "998  [Extracting actionable insights from the raw d...  \n",
       "999                [LLMs,  MLOps,  Prompt Engineering]  \n",
       "\n",
       "[1000 rows x 8 columns]"
      ]
     },
     "execution_count": 26,
     "metadata": {},
     "output_type": "execute_result"
    }
   ],
   "source": [
    "# cleaning the data for better analysis\n",
    "\n",
    "#convert to list type - Take each string and apply split()\n",
    "df['ds_imp_skills'] = df['ds_imp_skills'].apply(lambda skills: skills.split(\",\"))\n",
    "df"
   ]
  },
  {
   "cell_type": "code",
   "execution_count": 27,
   "id": "210aecf6-7dbd-4cbb-95a3-ec2ae6e4c348",
   "metadata": {},
   "outputs": [
    {
     "data": {
      "text/html": [
       "<div>\n",
       "<style scoped>\n",
       "    .dataframe tbody tr th:only-of-type {\n",
       "        vertical-align: middle;\n",
       "    }\n",
       "\n",
       "    .dataframe tbody tr th {\n",
       "        vertical-align: top;\n",
       "    }\n",
       "\n",
       "    .dataframe thead th {\n",
       "        text-align: right;\n",
       "    }\n",
       "</style>\n",
       "<table border=\"1\" class=\"dataframe\">\n",
       "  <thead>\n",
       "    <tr style=\"text-align: right;\">\n",
       "      <th></th>\n",
       "      <th>dob</th>\n",
       "      <th>current_profession</th>\n",
       "      <th>degree_yoc</th>\n",
       "      <th>ds_course_enrolment</th>\n",
       "      <th>ds_course_institute</th>\n",
       "      <th>innomatics_batch_number</th>\n",
       "      <th>internship_timing_preference</th>\n",
       "      <th>ds_imp_skills</th>\n",
       "    </tr>\n",
       "  </thead>\n",
       "  <tbody>\n",
       "    <tr>\n",
       "      <th>0</th>\n",
       "      <td>9/16/2000</td>\n",
       "      <td>Fresher (I have completed my Education and loo...</td>\n",
       "      <td>7/30/2023</td>\n",
       "      <td>I am currently enrolled in a Data Science cert...</td>\n",
       "      <td>Innomatics Research Labs</td>\n",
       "      <td>251</td>\n",
       "      <td>6:00 to 7:00 PM IST</td>\n",
       "      <td>Extracting actionable insights from the raw data</td>\n",
       "    </tr>\n",
       "    <tr>\n",
       "      <th>0</th>\n",
       "      <td>9/16/2000</td>\n",
       "      <td>Fresher (I have completed my Education and loo...</td>\n",
       "      <td>7/30/2023</td>\n",
       "      <td>I am currently enrolled in a Data Science cert...</td>\n",
       "      <td>Innomatics Research Labs</td>\n",
       "      <td>251</td>\n",
       "      <td>6:00 to 7:00 PM IST</td>\n",
       "      <td>Data Modelling</td>\n",
       "    </tr>\n",
       "    <tr>\n",
       "      <th>0</th>\n",
       "      <td>9/16/2000</td>\n",
       "      <td>Fresher (I have completed my Education and loo...</td>\n",
       "      <td>7/30/2023</td>\n",
       "      <td>I am currently enrolled in a Data Science cert...</td>\n",
       "      <td>Innomatics Research Labs</td>\n",
       "      <td>251</td>\n",
       "      <td>6:00 to 7:00 PM IST</td>\n",
       "      <td>LLMs</td>\n",
       "    </tr>\n",
       "    <tr>\n",
       "      <th>0</th>\n",
       "      <td>9/16/2000</td>\n",
       "      <td>Fresher (I have completed my Education and loo...</td>\n",
       "      <td>7/30/2023</td>\n",
       "      <td>I am currently enrolled in a Data Science cert...</td>\n",
       "      <td>Innomatics Research Labs</td>\n",
       "      <td>251</td>\n",
       "      <td>6:00 to 7:00 PM IST</td>\n",
       "      <td>MLOps</td>\n",
       "    </tr>\n",
       "    <tr>\n",
       "      <th>0</th>\n",
       "      <td>9/16/2000</td>\n",
       "      <td>Fresher (I have completed my Education and loo...</td>\n",
       "      <td>7/30/2023</td>\n",
       "      <td>I am currently enrolled in a Data Science cert...</td>\n",
       "      <td>Innomatics Research Labs</td>\n",
       "      <td>251</td>\n",
       "      <td>6:00 to 7:00 PM IST</td>\n",
       "      <td>Basics of backend application development usi...</td>\n",
       "    </tr>\n",
       "    <tr>\n",
       "      <th>...</th>\n",
       "      <td>...</td>\n",
       "      <td>...</td>\n",
       "      <td>...</td>\n",
       "      <td>...</td>\n",
       "      <td>...</td>\n",
       "      <td>...</td>\n",
       "      <td>...</td>\n",
       "      <td>...</td>\n",
       "    </tr>\n",
       "    <tr>\n",
       "      <th>998</th>\n",
       "      <td>6/3/2003</td>\n",
       "      <td>Student (I am currently enrolled in some Educa...</td>\n",
       "      <td>5/30/2025</td>\n",
       "      <td>I have never enrolled in any certification cou...</td>\n",
       "      <td>NaN</td>\n",
       "      <td>NaN</td>\n",
       "      <td>6:00 to 7:00 PM IST</td>\n",
       "      <td>LLMs</td>\n",
       "    </tr>\n",
       "    <tr>\n",
       "      <th>998</th>\n",
       "      <td>6/3/2003</td>\n",
       "      <td>Student (I am currently enrolled in some Educa...</td>\n",
       "      <td>5/30/2025</td>\n",
       "      <td>I have never enrolled in any certification cou...</td>\n",
       "      <td>NaN</td>\n",
       "      <td>NaN</td>\n",
       "      <td>6:00 to 7:00 PM IST</td>\n",
       "      <td>Basics of backend application development usi...</td>\n",
       "    </tr>\n",
       "    <tr>\n",
       "      <th>999</th>\n",
       "      <td>7/24/2003</td>\n",
       "      <td>Student (I am currently enrolled in some Educa...</td>\n",
       "      <td>5/25/2025</td>\n",
       "      <td>I am currently enrolled in a Data Science cert...</td>\n",
       "      <td>Birla Institute of Technology and Science, Pil...</td>\n",
       "      <td>NaN</td>\n",
       "      <td>6:00 to 7:00 PM IST</td>\n",
       "      <td>LLMs</td>\n",
       "    </tr>\n",
       "    <tr>\n",
       "      <th>999</th>\n",
       "      <td>7/24/2003</td>\n",
       "      <td>Student (I am currently enrolled in some Educa...</td>\n",
       "      <td>5/25/2025</td>\n",
       "      <td>I am currently enrolled in a Data Science cert...</td>\n",
       "      <td>Birla Institute of Technology and Science, Pil...</td>\n",
       "      <td>NaN</td>\n",
       "      <td>6:00 to 7:00 PM IST</td>\n",
       "      <td>MLOps</td>\n",
       "    </tr>\n",
       "    <tr>\n",
       "      <th>999</th>\n",
       "      <td>7/24/2003</td>\n",
       "      <td>Student (I am currently enrolled in some Educa...</td>\n",
       "      <td>5/25/2025</td>\n",
       "      <td>I am currently enrolled in a Data Science cert...</td>\n",
       "      <td>Birla Institute of Technology and Science, Pil...</td>\n",
       "      <td>NaN</td>\n",
       "      <td>6:00 to 7:00 PM IST</td>\n",
       "      <td>Prompt Engineering</td>\n",
       "    </tr>\n",
       "  </tbody>\n",
       "</table>\n",
       "<p>3770 rows × 8 columns</p>\n",
       "</div>"
      ],
      "text/plain": [
       "           dob                                 current_profession degree_yoc  \\\n",
       "0    9/16/2000  Fresher (I have completed my Education and loo...  7/30/2023   \n",
       "0    9/16/2000  Fresher (I have completed my Education and loo...  7/30/2023   \n",
       "0    9/16/2000  Fresher (I have completed my Education and loo...  7/30/2023   \n",
       "0    9/16/2000  Fresher (I have completed my Education and loo...  7/30/2023   \n",
       "0    9/16/2000  Fresher (I have completed my Education and loo...  7/30/2023   \n",
       "..         ...                                                ...        ...   \n",
       "998   6/3/2003  Student (I am currently enrolled in some Educa...  5/30/2025   \n",
       "998   6/3/2003  Student (I am currently enrolled in some Educa...  5/30/2025   \n",
       "999  7/24/2003  Student (I am currently enrolled in some Educa...  5/25/2025   \n",
       "999  7/24/2003  Student (I am currently enrolled in some Educa...  5/25/2025   \n",
       "999  7/24/2003  Student (I am currently enrolled in some Educa...  5/25/2025   \n",
       "\n",
       "                                   ds_course_enrolment  \\\n",
       "0    I am currently enrolled in a Data Science cert...   \n",
       "0    I am currently enrolled in a Data Science cert...   \n",
       "0    I am currently enrolled in a Data Science cert...   \n",
       "0    I am currently enrolled in a Data Science cert...   \n",
       "0    I am currently enrolled in a Data Science cert...   \n",
       "..                                                 ...   \n",
       "998  I have never enrolled in any certification cou...   \n",
       "998  I have never enrolled in any certification cou...   \n",
       "999  I am currently enrolled in a Data Science cert...   \n",
       "999  I am currently enrolled in a Data Science cert...   \n",
       "999  I am currently enrolled in a Data Science cert...   \n",
       "\n",
       "                                   ds_course_institute  \\\n",
       "0                             Innomatics Research Labs   \n",
       "0                             Innomatics Research Labs   \n",
       "0                             Innomatics Research Labs   \n",
       "0                             Innomatics Research Labs   \n",
       "0                             Innomatics Research Labs   \n",
       "..                                                 ...   \n",
       "998                                                NaN   \n",
       "998                                                NaN   \n",
       "999  Birla Institute of Technology and Science, Pil...   \n",
       "999  Birla Institute of Technology and Science, Pil...   \n",
       "999  Birla Institute of Technology and Science, Pil...   \n",
       "\n",
       "    innomatics_batch_number internship_timing_preference  \\\n",
       "0                       251          6:00 to 7:00 PM IST   \n",
       "0                       251          6:00 to 7:00 PM IST   \n",
       "0                       251          6:00 to 7:00 PM IST   \n",
       "0                       251          6:00 to 7:00 PM IST   \n",
       "0                       251          6:00 to 7:00 PM IST   \n",
       "..                      ...                          ...   \n",
       "998                     NaN          6:00 to 7:00 PM IST   \n",
       "998                     NaN          6:00 to 7:00 PM IST   \n",
       "999                     NaN          6:00 to 7:00 PM IST   \n",
       "999                     NaN          6:00 to 7:00 PM IST   \n",
       "999                     NaN          6:00 to 7:00 PM IST   \n",
       "\n",
       "                                         ds_imp_skills  \n",
       "0     Extracting actionable insights from the raw data  \n",
       "0                                       Data Modelling  \n",
       "0                                                 LLMs  \n",
       "0                                                MLOps  \n",
       "0     Basics of backend application development usi...  \n",
       "..                                                 ...  \n",
       "998                                               LLMs  \n",
       "998   Basics of backend application development usi...  \n",
       "999                                               LLMs  \n",
       "999                                              MLOps  \n",
       "999                                 Prompt Engineering  \n",
       "\n",
       "[3770 rows x 8 columns]"
      ]
     },
     "execution_count": 27,
     "metadata": {},
     "output_type": "execute_result"
    }
   ],
   "source": [
    "# Syntax : Dataframe_name.explode(\"COL_NAME\")\n",
    "exploded_df = df.explode(\"ds_imp_skills\")\n",
    "exploded_df"
   ]
  },
  {
   "cell_type": "code",
   "execution_count": 28,
   "id": "54490029-a37f-4ab8-8224-081027bfe2a6",
   "metadata": {},
   "outputs": [
    {
     "data": {
      "text/plain": [
       "ds_imp_skills\n",
       "Extracting actionable insights from the raw data           869\n",
       " Data Modelling                                            765\n",
       " MLOps                                                     585\n",
       " LLMs                                                      505\n",
       " Basics of backend application development using python    497\n",
       " Prompt Engineering                                        418\n",
       "Data Modelling                                              60\n",
       "LLMs                                                        28\n",
       "Basics of backend application development using python      25\n",
       "MLOps                                                       11\n",
       "Prompt Engineering                                           7\n",
       "Name: count, dtype: int64"
      ]
     },
     "execution_count": 28,
     "metadata": {},
     "output_type": "execute_result"
    }
   ],
   "source": [
    "exploded_df['ds_imp_skills'].value_counts()"
   ]
  },
  {
   "cell_type": "code",
   "execution_count": 29,
   "id": "302d2235-33d1-49e3-8ed0-206feffb13ed",
   "metadata": {},
   "outputs": [
    {
     "data": {
      "text/plain": [
       "ds_imp_skills\n",
       "Extracting actionable insights from the raw data          869\n",
       "Data Modelling                                            825\n",
       "MLOps                                                     596\n",
       "LLMs                                                      533\n",
       "Basics of backend application development using python    522\n",
       "Prompt Engineering                                        425\n",
       "Name: count, dtype: int64"
      ]
     },
     "execution_count": 29,
     "metadata": {},
     "output_type": "execute_result"
    }
   ],
   "source": [
    "exploded_df['ds_imp_skills'] = exploded_df['ds_imp_skills'].str.strip()\n",
    "exploded_df['ds_imp_skills'].value_counts()"
   ]
  },
  {
   "cell_type": "code",
   "execution_count": 30,
   "id": "e8b98eed-0280-402e-98cf-623e230241da",
   "metadata": {},
   "outputs": [
    {
     "data": {
      "text/plain": [
       "'MLOps'"
      ]
     },
     "execution_count": 30,
     "metadata": {},
     "output_type": "execute_result"
    }
   ],
   "source": [
    "exploded_df['ds_imp_skills'].value_counts().index[2]"
   ]
  },
  {
   "cell_type": "code",
   "execution_count": 31,
   "id": "468ca11b-c833-4e9d-9479-7fd846deb3b4",
   "metadata": {},
   "outputs": [
    {
     "data": {
      "text/plain": [
       "'MLOps'"
      ]
     },
     "execution_count": 31,
     "metadata": {},
     "output_type": "execute_result"
    }
   ],
   "source": [
    "# Convert all elements in 'ds_imp_skills' to lists if they are not already\n",
    "df_no_dup.loc[:, 'ds_imp_skills'] = df_no_dup['ds_imp_skills'].apply(\n",
    "    lambda skills: skills if isinstance(skills, list) else skills.split(\",\")\n",
    ")\n",
    "\n",
    "# Explode the 'ds_imp_skills' column to separate each skill into its own row\n",
    "exploded_df_no_dup = df_no_dup.explode(\"ds_imp_skills\")\n",
    "\n",
    "# Further cleaning: Strip leading/trailing whitespace from skill names\n",
    "exploded_df_no_dup.loc[:, 'ds_imp_skills'] = exploded_df_no_dup['ds_imp_skills'].str.strip()\n",
    "\n",
    "# Find the third most important skill\n",
    "third_most_important_skill = exploded_df_no_dup['ds_imp_skills'].value_counts().index[2]\n",
    "third_most_important_skill"
   ]
  },
  {
   "cell_type": "markdown",
   "id": "ca44e6fe-0f49-4497-a8f7-0b75bfd54a73",
   "metadata": {},
   "source": [
    "# **How many interns selected “Prompt Engineering” as the most important skill?** "
   ]
  },
  {
   "cell_type": "code",
   "execution_count": 32,
   "id": "6667d129-39f2-49a4-aa18-f70fa8236778",
   "metadata": {},
   "outputs": [
    {
     "data": {
      "text/plain": [
       "425"
      ]
     },
     "execution_count": 32,
     "metadata": {},
     "output_type": "execute_result"
    }
   ],
   "source": [
    "exploded_df['ds_imp_skills'].value_counts()['Prompt Engineering']"
   ]
  },
  {
   "cell_type": "code",
   "execution_count": 33,
   "id": "1d222894-8ee6-494b-88b7-6e39a6b85e60",
   "metadata": {},
   "outputs": [
    {
     "data": {
      "text/plain": [
       "424"
      ]
     },
     "execution_count": 33,
     "metadata": {},
     "output_type": "execute_result"
    }
   ],
   "source": [
    "# Without Dup\n",
    "exploded_df_no_dup['ds_imp_skills'].value_counts()['Prompt Engineering']"
   ]
  },
  {
   "cell_type": "markdown",
   "id": "7acc5836-d15c-4795-94a2-926cb6950482",
   "metadata": {},
   "source": [
    "# **Let’s now analyze the age groups of fellow interns.**"
   ]
  },
  {
   "cell_type": "markdown",
   "id": "d3c2c2ab-5ea4-44c9-8f73-7ef5c6aa258a",
   "metadata": {},
   "source": [
    "# **What is the minimum age of an intern at Innomatics Research Labs?**\n",
    "\n",
    "# Note: Answer it without cleaning the data."
   ]
  },
  {
   "cell_type": "code",
   "execution_count": 34,
   "id": "0f6315df-1b95-48f3-b740-71da5d9462ca",
   "metadata": {},
   "outputs": [
    {
     "data": {
      "text/plain": [
       "Index(['dob', 'current_profession', 'degree_yoc', 'ds_course_enrolment',\n",
       "       'ds_course_institute', 'innomatics_batch_number',\n",
       "       'internship_timing_preference', 'ds_imp_skills'],\n",
       "      dtype='object')"
      ]
     },
     "execution_count": 34,
     "metadata": {},
     "output_type": "execute_result"
    }
   ],
   "source": [
    "df.columns"
   ]
  },
  {
   "cell_type": "code",
   "execution_count": 35,
   "id": "ceaaca04-e0b8-497f-9485-590a4413d95c",
   "metadata": {},
   "outputs": [
    {
     "name": "stdout",
     "output_type": "stream",
     "text": [
      "<class 'pandas.core.frame.DataFrame'>\n",
      "RangeIndex: 1000 entries, 0 to 999\n",
      "Data columns (total 8 columns):\n",
      " #   Column                        Non-Null Count  Dtype \n",
      "---  ------                        --------------  ----- \n",
      " 0   dob                           1000 non-null   object\n",
      " 1   current_profession            1000 non-null   object\n",
      " 2   degree_yoc                    1000 non-null   object\n",
      " 3   ds_course_enrolment           1000 non-null   object\n",
      " 4   ds_course_institute           678 non-null    object\n",
      " 5   innomatics_batch_number       338 non-null    object\n",
      " 6   internship_timing_preference  1000 non-null   object\n",
      " 7   ds_imp_skills                 1000 non-null   object\n",
      "dtypes: object(8)\n",
      "memory usage: 62.6+ KB\n"
     ]
    }
   ],
   "source": [
    "df.info()"
   ]
  },
  {
   "cell_type": "code",
   "execution_count": 36,
   "id": "d4c47dac-790b-4b27-82e0-cd30b4d77e28",
   "metadata": {},
   "outputs": [
    {
     "name": "stdout",
     "output_type": "stream",
     "text": [
      "<class 'pandas.core.frame.DataFrame'>\n",
      "RangeIndex: 1000 entries, 0 to 999\n",
      "Data columns (total 8 columns):\n",
      " #   Column                        Non-Null Count  Dtype         \n",
      "---  ------                        --------------  -----         \n",
      " 0   dob                           1000 non-null   datetime64[ns]\n",
      " 1   current_profession            1000 non-null   object        \n",
      " 2   degree_yoc                    1000 non-null   object        \n",
      " 3   ds_course_enrolment           1000 non-null   object        \n",
      " 4   ds_course_institute           678 non-null    object        \n",
      " 5   innomatics_batch_number       338 non-null    object        \n",
      " 6   internship_timing_preference  1000 non-null   object        \n",
      " 7   ds_imp_skills                 1000 non-null   object        \n",
      "dtypes: datetime64[ns](1), object(7)\n",
      "memory usage: 62.6+ KB\n"
     ]
    }
   ],
   "source": [
    "df['dob'] = pd.to_datetime(df['dob'])\n",
    "df.info()"
   ]
  },
  {
   "cell_type": "code",
   "execution_count": 37,
   "id": "66e6f23b-378a-46c9-aab3-bb13173a938f",
   "metadata": {},
   "outputs": [],
   "source": [
    "# Extract age be from DOB\n",
    "today = pd.to_datetime('today')\n",
    "\n",
    "# Bias = Error\n",
    "df['age_1'] = today.year - df['dob'].dt.year\n",
    "\n",
    "# More accurate\n",
    "df['age_2'] = df['dob'].apply(lambda birthday : today.year - birthday.year - ((today.month, today.day) <(birthday.month,birthday.day)))"
   ]
  },
  {
   "cell_type": "code",
   "execution_count": 38,
   "id": "bc1781b6-22ef-4ae1-ba29-87cd17ef1586",
   "metadata": {},
   "outputs": [
    {
     "data": {
      "text/html": [
       "<div>\n",
       "<style scoped>\n",
       "    .dataframe tbody tr th:only-of-type {\n",
       "        vertical-align: middle;\n",
       "    }\n",
       "\n",
       "    .dataframe tbody tr th {\n",
       "        vertical-align: top;\n",
       "    }\n",
       "\n",
       "    .dataframe thead th {\n",
       "        text-align: right;\n",
       "    }\n",
       "</style>\n",
       "<table border=\"1\" class=\"dataframe\">\n",
       "  <thead>\n",
       "    <tr style=\"text-align: right;\">\n",
       "      <th></th>\n",
       "      <th>dob</th>\n",
       "      <th>age_1</th>\n",
       "      <th>age_2</th>\n",
       "    </tr>\n",
       "  </thead>\n",
       "  <tbody>\n",
       "    <tr>\n",
       "      <th>count</th>\n",
       "      <td>1000</td>\n",
       "      <td>1000.00000</td>\n",
       "      <td>1000.000000</td>\n",
       "    </tr>\n",
       "    <tr>\n",
       "      <th>mean</th>\n",
       "      <td>2001-03-10 09:36:00</td>\n",
       "      <td>24.32500</td>\n",
       "      <td>23.387000</td>\n",
       "    </tr>\n",
       "    <tr>\n",
       "      <th>min</th>\n",
       "      <td>1980-06-06 00:00:00</td>\n",
       "      <td>1.00000</td>\n",
       "      <td>0.000000</td>\n",
       "    </tr>\n",
       "    <tr>\n",
       "      <th>25%</th>\n",
       "      <td>2000-04-15 18:00:00</td>\n",
       "      <td>22.00000</td>\n",
       "      <td>22.000000</td>\n",
       "    </tr>\n",
       "    <tr>\n",
       "      <th>50%</th>\n",
       "      <td>2001-10-18 00:00:00</td>\n",
       "      <td>24.00000</td>\n",
       "      <td>23.000000</td>\n",
       "    </tr>\n",
       "    <tr>\n",
       "      <th>75%</th>\n",
       "      <td>2003-01-10 00:00:00</td>\n",
       "      <td>25.00000</td>\n",
       "      <td>24.000000</td>\n",
       "    </tr>\n",
       "    <tr>\n",
       "      <th>max</th>\n",
       "      <td>2024-10-19 00:00:00</td>\n",
       "      <td>45.00000</td>\n",
       "      <td>44.000000</td>\n",
       "    </tr>\n",
       "    <tr>\n",
       "      <th>std</th>\n",
       "      <td>NaN</td>\n",
       "      <td>3.29822</td>\n",
       "      <td>3.285426</td>\n",
       "    </tr>\n",
       "  </tbody>\n",
       "</table>\n",
       "</div>"
      ],
      "text/plain": [
       "                       dob       age_1        age_2\n",
       "count                 1000  1000.00000  1000.000000\n",
       "mean   2001-03-10 09:36:00    24.32500    23.387000\n",
       "min    1980-06-06 00:00:00     1.00000     0.000000\n",
       "25%    2000-04-15 18:00:00    22.00000    22.000000\n",
       "50%    2001-10-18 00:00:00    24.00000    23.000000\n",
       "75%    2003-01-10 00:00:00    25.00000    24.000000\n",
       "max    2024-10-19 00:00:00    45.00000    44.000000\n",
       "std                    NaN     3.29822     3.285426"
      ]
     },
     "execution_count": 38,
     "metadata": {},
     "output_type": "execute_result"
    }
   ],
   "source": [
    "df.describe()"
   ]
  },
  {
   "cell_type": "code",
   "execution_count": 39,
   "id": "72996037-716b-4508-9239-31f3a1c837c4",
   "metadata": {},
   "outputs": [
    {
     "data": {
      "text/plain": [
       "<Axes: ylabel='Frequency'>"
      ]
     },
     "execution_count": 39,
     "metadata": {},
     "output_type": "execute_result"
    },
    {
     "data": {
      "image/png": "[encoded data removed]",
      "text/plain": [
       "<Figure size 640x480 with 1 Axes>"
      ]
     },
     "metadata": {},
     "output_type": "display_data"
    }
   ],
   "source": [
    "df['age_1'].plot(kind ='hist')"
   ]
  },
  {
   "cell_type": "code",
   "execution_count": 40,
   "id": "9c488817-35b4-4bc0-9c9f-2713d0189057",
   "metadata": {},
   "outputs": [
    {
     "data": {
      "text/plain": [
       "<Axes: >"
      ]
     },
     "execution_count": 40,
     "metadata": {},
     "output_type": "execute_result"
    },
    {
     "data": {
      "image/png": "[encoded data removed]",
      "text/plain": [
       "<Figure size 640x480 with 1 Axes>"
      ]
     },
     "metadata": {},
     "output_type": "display_data"
    }
   ],
   "source": [
    "df['age_1'].plot(kind='box')"
   ]
  },
  {
   "cell_type": "code",
   "execution_count": 41,
   "id": "bc815821-14c9-48bc-a3ac-b53efcd0a4b7",
   "metadata": {},
   "outputs": [
    {
     "data": {
      "text/html": [
       "<div>\n",
       "<style scoped>\n",
       "    .dataframe tbody tr th:only-of-type {\n",
       "        vertical-align: middle;\n",
       "    }\n",
       "\n",
       "    .dataframe tbody tr th {\n",
       "        vertical-align: top;\n",
       "    }\n",
       "\n",
       "    .dataframe thead th {\n",
       "        text-align: right;\n",
       "    }\n",
       "</style>\n",
       "<table border=\"1\" class=\"dataframe\">\n",
       "  <thead>\n",
       "    <tr style=\"text-align: right;\">\n",
       "      <th></th>\n",
       "      <th>dob</th>\n",
       "      <th>current_profession</th>\n",
       "      <th>age_1</th>\n",
       "      <th>age_2</th>\n",
       "    </tr>\n",
       "  </thead>\n",
       "  <tbody>\n",
       "    <tr>\n",
       "      <th>112</th>\n",
       "      <td>2024-10-19</td>\n",
       "      <td>Student (I am currently enrolled in some Educa...</td>\n",
       "      <td>1</td>\n",
       "      <td>0</td>\n",
       "    </tr>\n",
       "    <tr>\n",
       "      <th>536</th>\n",
       "      <td>2024-05-13</td>\n",
       "      <td>Student (I am currently enrolled in some Educa...</td>\n",
       "      <td>1</td>\n",
       "      <td>0</td>\n",
       "    </tr>\n",
       "  </tbody>\n",
       "</table>\n",
       "</div>"
      ],
      "text/plain": [
       "           dob                                 current_profession  age_1  \\\n",
       "112 2024-10-19  Student (I am currently enrolled in some Educa...      1   \n",
       "536 2024-05-13  Student (I am currently enrolled in some Educa...      1   \n",
       "\n",
       "     age_2  \n",
       "112      0  \n",
       "536      0  "
      ]
     },
     "execution_count": 41,
     "metadata": {},
     "output_type": "execute_result"
    }
   ],
   "source": [
    "# df.ioc[rows or condition on the rows, cols]\n",
    "df.loc[df['age_2'] <= 0, ['dob', 'current_profession', 'age_1', 'age_2']]"
   ]
  },
  {
   "cell_type": "code",
   "execution_count": 42,
   "id": "88556c42-b65c-4fe5-8945-d8019b43c309",
   "metadata": {},
   "outputs": [
    {
     "data": {
      "text/html": [
       "<div>\n",
       "<style scoped>\n",
       "    .dataframe tbody tr th:only-of-type {\n",
       "        vertical-align: middle;\n",
       "    }\n",
       "\n",
       "    .dataframe tbody tr th {\n",
       "        vertical-align: top;\n",
       "    }\n",
       "\n",
       "    .dataframe thead th {\n",
       "        text-align: right;\n",
       "    }\n",
       "</style>\n",
       "<table border=\"1\" class=\"dataframe\">\n",
       "  <thead>\n",
       "    <tr style=\"text-align: right;\">\n",
       "      <th></th>\n",
       "      <th>dob</th>\n",
       "      <th>age_1</th>\n",
       "      <th>age_2</th>\n",
       "    </tr>\n",
       "  </thead>\n",
       "  <tbody>\n",
       "    <tr>\n",
       "      <th>count</th>\n",
       "      <td>998</td>\n",
       "      <td>998.000000</td>\n",
       "      <td>998.000000</td>\n",
       "    </tr>\n",
       "    <tr>\n",
       "      <th>mean</th>\n",
       "      <td>2001-02-21 06:39:40.761523072</td>\n",
       "      <td>24.371743</td>\n",
       "      <td>23.433868</td>\n",
       "    </tr>\n",
       "    <tr>\n",
       "      <th>min</th>\n",
       "      <td>1980-06-06 00:00:00</td>\n",
       "      <td>1.000000</td>\n",
       "      <td>1.000000</td>\n",
       "    </tr>\n",
       "    <tr>\n",
       "      <th>25%</th>\n",
       "      <td>2000-04-11 06:00:00</td>\n",
       "      <td>22.000000</td>\n",
       "      <td>22.000000</td>\n",
       "    </tr>\n",
       "    <tr>\n",
       "      <th>50%</th>\n",
       "      <td>2001-10-16 12:00:00</td>\n",
       "      <td>24.000000</td>\n",
       "      <td>23.000000</td>\n",
       "    </tr>\n",
       "    <tr>\n",
       "      <th>75%</th>\n",
       "      <td>2003-01-05 18:00:00</td>\n",
       "      <td>25.000000</td>\n",
       "      <td>24.000000</td>\n",
       "    </tr>\n",
       "    <tr>\n",
       "      <th>max</th>\n",
       "      <td>2024-01-16 00:00:00</td>\n",
       "      <td>45.000000</td>\n",
       "      <td>44.000000</td>\n",
       "    </tr>\n",
       "    <tr>\n",
       "      <th>std</th>\n",
       "      <td>NaN</td>\n",
       "      <td>3.131534</td>\n",
       "      <td>3.117095</td>\n",
       "    </tr>\n",
       "  </tbody>\n",
       "</table>\n",
       "</div>"
      ],
      "text/plain": [
       "                                 dob       age_1       age_2\n",
       "count                            998  998.000000  998.000000\n",
       "mean   2001-02-21 06:39:40.761523072   24.371743   23.433868\n",
       "min              1980-06-06 00:00:00    1.000000    1.000000\n",
       "25%              2000-04-11 06:00:00   22.000000   22.000000\n",
       "50%              2001-10-16 12:00:00   24.000000   23.000000\n",
       "75%              2003-01-05 18:00:00   25.000000   24.000000\n",
       "max              2024-01-16 00:00:00   45.000000   44.000000\n",
       "std                              NaN    3.131534    3.117095"
      ]
     },
     "execution_count": 42,
     "metadata": {},
     "output_type": "execute_result"
    }
   ],
   "source": [
    "# without outlier\n",
    "df[df['age_2']>0].describe()"
   ]
  },
  {
   "cell_type": "code",
   "execution_count": 43,
   "id": "c8396a7d-8ad4-4512-8b2c-7a4dcd7a8c57",
   "metadata": {},
   "outputs": [
    {
     "name": "stderr",
     "output_type": "stream",
     "text": [
      "C:\\Users\\skist\\AppData\\Local\\Temp\\ipykernel_12220\\2467254836.py:2: SettingWithCopyWarning: \n",
      "A value is trying to be set on a copy of a slice from a DataFrame.\n",
      "Try using .loc[row_indexer,col_indexer] = value instead\n",
      "\n",
      "See the caveats in the documentation: https://pandas.pydata.org/pandas-docs/stable/user_guide/indexing.html#returning-a-view-versus-a-copy\n",
      "  df_no_dup['dob'] =pd.to_datetime(df_no_dup['dob'])\n",
      "C:\\Users\\skist\\AppData\\Local\\Temp\\ipykernel_12220\\2467254836.py:4: SettingWithCopyWarning: \n",
      "A value is trying to be set on a copy of a slice from a DataFrame.\n",
      "Try using .loc[row_indexer,col_indexer] = value instead\n",
      "\n",
      "See the caveats in the documentation: https://pandas.pydata.org/pandas-docs/stable/user_guide/indexing.html#returning-a-view-versus-a-copy\n",
      "  df_no_dup['age_1'] =  today.year - df_no_dup['dob'].dt.year\n",
      "C:\\Users\\skist\\AppData\\Local\\Temp\\ipykernel_12220\\2467254836.py:5: SettingWithCopyWarning: \n",
      "A value is trying to be set on a copy of a slice from a DataFrame.\n",
      "Try using .loc[row_indexer,col_indexer] = value instead\n",
      "\n",
      "See the caveats in the documentation: https://pandas.pydata.org/pandas-docs/stable/user_guide/indexing.html#returning-a-view-versus-a-copy\n",
      "  df_no_dup['age_2'] = df_no_dup['dob'].apply(lambda birthday : today.year - birthday.year - ((today.month, today.day) <(birthday.month,birthday.day)))\n"
     ]
    }
   ],
   "source": [
    "# without duplicates\n",
    "df_no_dup['dob'] =pd.to_datetime(df_no_dup['dob'])\n",
    "today = pd.to_datetime('today')\n",
    "df_no_dup['age_1'] =  today.year - df_no_dup['dob'].dt.year\n",
    "df_no_dup['age_2'] = df_no_dup['dob'].apply(lambda birthday : today.year - birthday.year - ((today.month, today.day) <(birthday.month,birthday.day)))"
   ]
  },
  {
   "cell_type": "code",
   "execution_count": 44,
   "id": "ea51da91-300f-47d6-9cd4-354a042371e4",
   "metadata": {},
   "outputs": [
    {
     "data": {
      "text/html": [
       "<div>\n",
       "<style scoped>\n",
       "    .dataframe tbody tr th:only-of-type {\n",
       "        vertical-align: middle;\n",
       "    }\n",
       "\n",
       "    .dataframe tbody tr th {\n",
       "        vertical-align: top;\n",
       "    }\n",
       "\n",
       "    .dataframe thead th {\n",
       "        text-align: right;\n",
       "    }\n",
       "</style>\n",
       "<table border=\"1\" class=\"dataframe\">\n",
       "  <thead>\n",
       "    <tr style=\"text-align: right;\">\n",
       "      <th></th>\n",
       "      <th>dob</th>\n",
       "      <th>age_1</th>\n",
       "      <th>age_2</th>\n",
       "    </tr>\n",
       "  </thead>\n",
       "  <tbody>\n",
       "    <tr>\n",
       "      <th>count</th>\n",
       "      <td>998</td>\n",
       "      <td>998.000000</td>\n",
       "      <td>998.000000</td>\n",
       "    </tr>\n",
       "    <tr>\n",
       "      <th>mean</th>\n",
       "      <td>2001-03-08 07:47:29.699398784</td>\n",
       "      <td>24.330661</td>\n",
       "      <td>23.392786</td>\n",
       "    </tr>\n",
       "    <tr>\n",
       "      <th>min</th>\n",
       "      <td>1980-06-06 00:00:00</td>\n",
       "      <td>1.000000</td>\n",
       "      <td>0.000000</td>\n",
       "    </tr>\n",
       "    <tr>\n",
       "      <th>25%</th>\n",
       "      <td>2000-04-11 06:00:00</td>\n",
       "      <td>22.000000</td>\n",
       "      <td>22.000000</td>\n",
       "    </tr>\n",
       "    <tr>\n",
       "      <th>50%</th>\n",
       "      <td>2001-10-16 12:00:00</td>\n",
       "      <td>24.000000</td>\n",
       "      <td>23.000000</td>\n",
       "    </tr>\n",
       "    <tr>\n",
       "      <th>75%</th>\n",
       "      <td>2003-01-05 18:00:00</td>\n",
       "      <td>25.000000</td>\n",
       "      <td>24.000000</td>\n",
       "    </tr>\n",
       "    <tr>\n",
       "      <th>max</th>\n",
       "      <td>2024-10-19 00:00:00</td>\n",
       "      <td>45.000000</td>\n",
       "      <td>44.000000</td>\n",
       "    </tr>\n",
       "    <tr>\n",
       "      <th>std</th>\n",
       "      <td>NaN</td>\n",
       "      <td>3.299020</td>\n",
       "      <td>3.286095</td>\n",
       "    </tr>\n",
       "  </tbody>\n",
       "</table>\n",
       "</div>"
      ],
      "text/plain": [
       "                                 dob       age_1       age_2\n",
       "count                            998  998.000000  998.000000\n",
       "mean   2001-03-08 07:47:29.699398784   24.330661   23.392786\n",
       "min              1980-06-06 00:00:00    1.000000    0.000000\n",
       "25%              2000-04-11 06:00:00   22.000000   22.000000\n",
       "50%              2001-10-16 12:00:00   24.000000   23.000000\n",
       "75%              2003-01-05 18:00:00   25.000000   24.000000\n",
       "max              2024-10-19 00:00:00   45.000000   44.000000\n",
       "std                              NaN    3.299020    3.286095"
      ]
     },
     "execution_count": 44,
     "metadata": {},
     "output_type": "execute_result"
    }
   ],
   "source": [
    "df_no_dup.describe()"
   ]
  },
  {
   "cell_type": "code",
   "execution_count": 45,
   "id": "24ee4e3c-fc8a-45b5-9f99-e266227ab872",
   "metadata": {},
   "outputs": [
    {
     "data": {
      "text/html": [
       "<div>\n",
       "<style scoped>\n",
       "    .dataframe tbody tr th:only-of-type {\n",
       "        vertical-align: middle;\n",
       "    }\n",
       "\n",
       "    .dataframe tbody tr th {\n",
       "        vertical-align: top;\n",
       "    }\n",
       "\n",
       "    .dataframe thead th {\n",
       "        text-align: right;\n",
       "    }\n",
       "</style>\n",
       "<table border=\"1\" class=\"dataframe\">\n",
       "  <thead>\n",
       "    <tr style=\"text-align: right;\">\n",
       "      <th></th>\n",
       "      <th>dob</th>\n",
       "      <th>age_1</th>\n",
       "      <th>age_2</th>\n",
       "    </tr>\n",
       "  </thead>\n",
       "  <tbody>\n",
       "    <tr>\n",
       "      <th>count</th>\n",
       "      <td>996</td>\n",
       "      <td>996.000000</td>\n",
       "      <td>996.000000</td>\n",
       "    </tr>\n",
       "    <tr>\n",
       "      <th>mean</th>\n",
       "      <td>2001-02-19 03:55:39.759036032</td>\n",
       "      <td>24.377510</td>\n",
       "      <td>23.439759</td>\n",
       "    </tr>\n",
       "    <tr>\n",
       "      <th>min</th>\n",
       "      <td>1980-06-06 00:00:00</td>\n",
       "      <td>1.000000</td>\n",
       "      <td>1.000000</td>\n",
       "    </tr>\n",
       "    <tr>\n",
       "      <th>25%</th>\n",
       "      <td>2000-04-08 00:00:00</td>\n",
       "      <td>22.000000</td>\n",
       "      <td>22.000000</td>\n",
       "    </tr>\n",
       "    <tr>\n",
       "      <th>50%</th>\n",
       "      <td>2001-10-15 00:00:00</td>\n",
       "      <td>24.000000</td>\n",
       "      <td>23.000000</td>\n",
       "    </tr>\n",
       "    <tr>\n",
       "      <th>75%</th>\n",
       "      <td>2003-01-02 00:00:00</td>\n",
       "      <td>25.000000</td>\n",
       "      <td>24.000000</td>\n",
       "    </tr>\n",
       "    <tr>\n",
       "      <th>max</th>\n",
       "      <td>2024-01-16 00:00:00</td>\n",
       "      <td>45.000000</td>\n",
       "      <td>44.000000</td>\n",
       "    </tr>\n",
       "    <tr>\n",
       "      <th>std</th>\n",
       "      <td>NaN</td>\n",
       "      <td>3.131949</td>\n",
       "      <td>3.117367</td>\n",
       "    </tr>\n",
       "  </tbody>\n",
       "</table>\n",
       "</div>"
      ],
      "text/plain": [
       "                                 dob       age_1       age_2\n",
       "count                            996  996.000000  996.000000\n",
       "mean   2001-02-19 03:55:39.759036032   24.377510   23.439759\n",
       "min              1980-06-06 00:00:00    1.000000    1.000000\n",
       "25%              2000-04-08 00:00:00   22.000000   22.000000\n",
       "50%              2001-10-15 00:00:00   24.000000   23.000000\n",
       "75%              2003-01-02 00:00:00   25.000000   24.000000\n",
       "max              2024-01-16 00:00:00   45.000000   44.000000\n",
       "std                              NaN    3.131949    3.117367"
      ]
     },
     "execution_count": 45,
     "metadata": {},
     "output_type": "execute_result"
    }
   ],
   "source": [
    "df_no_dup[df_no_dup['age_2']>0].describe()"
   ]
  },
  {
   "cell_type": "markdown",
   "id": "95c0a096-10c0-432e-bb23-f4d8782f813f",
   "metadata": {},
   "source": [
    "# **How many interns were born on a Sunday?**"
   ]
  },
  {
   "cell_type": "code",
   "execution_count": 46,
   "id": "12abd092-e046-4a54-8feb-f84fa42ec9d0",
   "metadata": {},
   "outputs": [
    {
     "data": {
      "text/plain": [
       "dob\n",
       "Monday       163\n",
       "Thursday     147\n",
       "Friday       146\n",
       "Saturday     145\n",
       "Tuesday      140\n",
       "Wednesday    134\n",
       "Sunday       125\n",
       "Name: count, dtype: int64"
      ]
     },
     "execution_count": 46,
     "metadata": {},
     "output_type": "execute_result"
    }
   ],
   "source": [
    "df['dob'].dt.day_name().value_counts()"
   ]
  },
  {
   "cell_type": "markdown",
   "id": "a17d4dc0-0686-4be6-95dd-0d0938c780fa",
   "metadata": {},
   "source": [
    "# **In which month do the majority of interns are born?**"
   ]
  },
  {
   "cell_type": "code",
   "execution_count": 47,
   "id": "5f92822c-f1ff-4199-b87d-5f13e3da54f8",
   "metadata": {},
   "outputs": [
    {
     "data": {
      "text/plain": [
       "<Axes: xlabel='dob'>"
      ]
     },
     "execution_count": 47,
     "metadata": {},
     "output_type": "execute_result"
    },
    {
     "data": {
      "image/png": "[encoded data removed]",
      "text/plain": [
       "<Figure size 640x480 with 1 Axes>"
      ]
     },
     "metadata": {},
     "output_type": "display_data"
    }
   ],
   "source": [
    "df['dob'].dt.month_name().value_counts().plot(kind='bar')"
   ]
  },
  {
   "cell_type": "markdown",
   "id": "a1111c10-7ed5-41b1-a81a-bba0f9f14d5a",
   "metadata": {},
   "source": [
    "# **What is the median age of a working professional?**"
   ]
  },
  {
   "cell_type": "code",
   "execution_count": 48,
   "id": "f633c43b-fc78-46a6-a8a5-b09fa79f828b",
   "metadata": {},
   "outputs": [
    {
     "name": "stdout",
     "output_type": "stream",
     "text": [
      "The median age of a working professional is 23.0 years.\n"
     ]
    }
   ],
   "source": [
    "print(f\"The median age of a working professional is {df['age_2'].median()} years.\")\n"
   ]
  },
  {
   "cell_type": "markdown",
   "id": "9bb39f00-928b-4797-a245-a35dea5b7c0b",
   "metadata": {},
   "source": [
    "# **What is the maximum age of a freelancer?**"
   ]
  },
  {
   "cell_type": "code",
   "execution_count": 49,
   "id": "a4034502-ac49-49ed-af57-aa278e16788c",
   "metadata": {},
   "outputs": [
    {
     "name": "stdout",
     "output_type": "stream",
     "text": [
      "The maximum age of a freelancer is nan years.\n"
     ]
    }
   ],
   "source": [
    "print(f\"The maximum age of a freelancer is {df.loc[df['current_profession'] == 'Freelancer', 'age_2'].max()} years.\")"
   ]
  },
  {
   "cell_type": "markdown",
   "id": "cfcb6fdc-26dd-4d2a-8b82-8c738c663a6d",
   "metadata": {},
   "source": [
    "# **Let’s do our final analysis now. Let’s try to learn about the institute from where interns have completed or are pursuing their data science courses.**"
   ]
  },
  {
   "cell_type": "markdown",
   "id": "ddf0c807-3409-4a27-9e2d-e36cfb71f2c6",
   "metadata": {},
   "source": [
    "# 1.How many interns didn’t mention the name of the data science institute from where they completed or are currently pursuing the courses \n",
    "# 2.How many interns mentioned Innomatics as their data science institute?"
   ]
  },
  {
   "cell_type": "code",
   "execution_count": 50,
   "id": "9e6efec7-46d5-48b1-94c0-08ec11aa9371",
   "metadata": {},
   "outputs": [
    {
     "data": {
      "text/plain": [
       "365"
      ]
     },
     "execution_count": 50,
     "metadata": {},
     "output_type": "execute_result"
    }
   ],
   "source": [
    "df['ds_course_institute'].nunique()"
   ]
  },
  {
   "cell_type": "code",
   "execution_count": 51,
   "id": "08e5dbc7-a61a-4665-9329-b126974c20e4",
   "metadata": {},
   "outputs": [
    {
     "data": {
      "text/plain": [
       "array(['Innomatics Research Labs', nan,\n",
       "       'Velagapudi ramakrishna Siddhartha college ',\n",
       "       'In NPTEL as well as Coursera IBM Data Science Course I am currently enrolled in.',\n",
       "       'Innomatics research labs ', 'Coach-Ed',\n",
       "       'Internship at Innomatics Research Labs',\n",
       "       'Symbiosis skills and professional University',\n",
       "       'AISSMS Institute of Information Technology',\n",
       "       'Swayam NPTEL course ', 'Innomatics Research Labs ',\n",
       "       'Innomatics Research Labs\"', 'Innomatices research labs',\n",
       "       'InnomaticsResearchLabs ', 'Udemy', 'INNOMATICS RESEARCH LABS',\n",
       "       'Innomatics research labs', 'Scaler Academy ',\n",
       "       'Sri Manakula Vinayagar Engineering College',\n",
       "       'Innomatics Resarch Labs ', 'Innomatics',\n",
       "       'innomatics research labs', 'ExcelR Solutions',\n",
       "       'Innomatics Research Lab ', 'Na', 'Acmegrade', 'excelR solutions ',\n",
       "       'Mysore University', 'Coursera', 'Top Mentor',\n",
       "       'Skill for all cisco', 'Innomatics Research labs', 'UDEMY',\n",
       "       'Vikramasimhapuri University', 'Simplilearn',\n",
       "       'University of Kerala', 'Udemy ', 'COURSERA', 'Coursera ',\n",
       "       'Sreenidhi institute of science and technology ',\n",
       "       'SQUAD Infotech Pvt. Ltd.', 'FunctionUp', 'No',\n",
       "       'Andhra Pradesh State Skill Development Corporation (APSSDC)',\n",
       "       'Innomatics Research Labs , JNTU Hyderabad ',\n",
       "       'Chandigarh University ', 'COCSIT ', 'Inomatics research labs ',\n",
       "       'NA ', 'Excelr', 'Yhills',\n",
       "       \"AWS MACHINE LEARNING FOUNDATIONS, deeplearning.ai and stanford's machine learning specialization on coursera\",\n",
       "       'Pantech solutions, Twilearn ', 'ALMABETTER',\n",
       "       'Innomatics Reasearch Labs', 'Innomatics Research Labs Hyderabad',\n",
       "       'Internshala Trainings', 'ETlhive ', 'Data Einstein ',\n",
       "       ' Coursera, Geeks For Geeks , Udemy.',\n",
       "       'NPTEL Online course for completed the Data science and engineers certification.',\n",
       "       'Scaler', 'Simplilearn and Codebasics',\n",
       "       'Innomatics Research labs ',\n",
       "       'TechnoHacks EduTech Private limited ', 'Internshala',\n",
       "       'IIT madras', 'Offline coaching centre ', 'AlmaBetter ',\n",
       "       'Google Data Analytics Certification, IBM Data Science Certification',\n",
       "       'Institute of aeronautical engineering',\n",
       "       'Tamilnadu Skill Development of Corporation', 'Pantech University',\n",
       "       'almabetter,British Airways Data science virtual internship',\n",
       "       'innomatics Research labs, Hyderabad',\n",
       "       'Innomatics Research Labs, Hyderabad ', 'Innomatics Research lab',\n",
       "       'CodeBasics Online Platform ', 'skill for all Cisco',\n",
       "       'Excelr solutions Pune', 'Digipodium ', '365 Careers',\n",
       "       'Cisco networking academy ', 'Innometics Research Labs',\n",
       "       'Indian Institute of Technology Madras', '1stop',\n",
       "       \"Innomatics Research Lab's\", 'Freecodecamp',\n",
       "       'INNOVATIVE RESEARCH LAB', 'Bharat Intern',\n",
       "       'Innomatics research lab', 'Stanford University', 'coursera ',\n",
       "       'HDLC Technologies ', 'Bharati Vidyapeeth University ',\n",
       "       'Innomatics research Labs', 'Jobaaj Learnings',\n",
       "       'Lovely Professional University ',\n",
       "       'Kaggle Online Course , Coursera Online Course,IBM Course',\n",
       "       'Kristu jayanti college ', 'Innomatics ',\n",
       "       'ITvedant Education Institute', 'INNOMATICS',\n",
       "       'Learnbay institute ', 'DataCamp', 'Stanford University Online ',\n",
       "       'Simplilearn platform ', 'GUVI -IIT Madras Research Park',\n",
       "       'EdYoda Digital Institute', 'St Clair College ', 'The correlation',\n",
       "       'Informatics research lab', 'Innomatics Reasearch labs',\n",
       "       'SR University', 'Coding Ninjas ', 'na', 'Excelr Solutions',\n",
       "       'Charotar University of Science and Technology',\n",
       "       'Innomatics Research Labs.', 'Squad Infotech', 'IBM ', 'Scaler ',\n",
       "       'Upgrad ', 'I am doing geeks for geeks course',\n",
       "       'MIT ADT University', 'Linkedin', 'Bishop Heber College ',\n",
       "       'Shiv Nadar University Chennai ', 'NA(self learning) ',\n",
       "       'IIITDM(Indian Institute of Information and Technology ,Design and Manufacturing) Kancheepuram',\n",
       "       'Ganpat University ', 'Department of technology (pune university)',\n",
       "       'Explore Academy', 'NPTEL',\n",
       "       'Ramniranjan Jhunjhunwala College Mumbai ',\n",
       "       'iNeuron.ai (Full Stack Data Science)', 'Top mentor', '360digitmg',\n",
       "       \"Vidya Pratishthan's Kamalnayan Bajaj Institute of Engineering and Technology\",\n",
       "       'International Institute of Information Technology',\n",
       "       'Vaagdevi college of engineering ',\n",
       "       'Forks coding school, Innomatics Research lab',\n",
       "       'Hagital Consult Nigeria and IBM Data Science Professional Certificate Course (Coursera)',\n",
       "       'Guvi - IITM', '365 Data Science', 'Intershala ',\n",
       "       'Innomatics Research Lab, Hyderabad', 'INeuron', 'Pwskills ',\n",
       "       'College of Engineering Pune', 'Graphic era university ',\n",
       "       'Coursera Platform', 'KWS college of Sangli ',\n",
       "       'INNOMATICS RESEARCH LAB ', 'Jansons Institute of Technology ',\n",
       "       'Coursera Data Science course by IBM', 'DA innomatics',\n",
       "       'Innomatices', 'Google Data analytics certification ', 'IBM',\n",
       "       'GITAM University, Visakhapatnam ', 'Pantech', 'Courseera',\n",
       "       'PW skills ', 'Gnanamani College of Technology ', 'Evarcity',\n",
       "       'Internstudio , Microsoft Learning',\n",
       "       'Indira institute of Education', 'Squad Infotech Pvt.ltd',\n",
       "       'Pwskills', 'Internship studio', 'N/a', 'IANT', 'HyperionDev',\n",
       "       'Great Learning ', 'Learnwick Solutions ',\n",
       "       'Centre for Development of Advanced Computing Mumbai ',\n",
       "       'Innomatics research labs, jntu', 'Physics wallah ',\n",
       "       'Nucot in Bangalore', 'Royal Technosoft pvt Ltd ',\n",
       "       'Innomatics Reasearch Labs ', 'ExcelR', 'Learnbay',\n",
       "       'Coursera IBM Data Science COurse', 'ExcelR Institude Baner Pune',\n",
       "       'Geek For Geeks Course', 'Applied Roots',\n",
       "       'INTELLIPAT and IIT Roorkee',\n",
       "       'From my college I have a subject data science, and also registered with Cisco learnings ',\n",
       "       'PW Skills', 'Tkr college of engineering and technology',\n",
       "       'innomatics research lab', 'Online course (physics Wallah)',\n",
       "       'Innomatics Resreach lab', 'Quality Thoughts',\n",
       "       'Coursers deep learning by Andrew Ng', 'Squad Infotech ', 'N',\n",
       "       'Hamoye and Binance Charity',\n",
       "       'IBM SkillsBuild and CSRBOX academic Internship for Data Analytics!',\n",
       "       'Pw skills', 'Freecodecamp online lessons',\n",
       "       'Innomatics Research  Labs', 'IIT Roorkee ',\n",
       "       'Skill Academy by Testbook', 'Cognitive Class',\n",
       "       'IPCS GLOBAL CALICUT ',\n",
       "       'Rajiv Gandhi Proudyogiki Vishwavidyalaya, Udacity', 'AlmaBetter',\n",
       "       'Academor ', 'PYTHON FOR DATA SCIENCE AND AI BY IBM',\n",
       "       'Letsupgrade ', 'Jain University and FingerTips collaboration ',\n",
       "       'ALIGARH MUSLIM UNIVERSITY', 'IIT-M and Intellipaat',\n",
       "       'Department of Futures Studies, University of Kerala',\n",
       "       'Physics Wallah', 'TCSiON Industry Honored Course',\n",
       "       'Squad Institute ', 'innomatics reseach labs', 'Almabetter ',\n",
       "       'Internshala trainings', 'Simplelearn',\n",
       "       'Indian Institute of Technology, Mandi',\n",
       "       'Deep Learning.ai and Campus X', 'INNOMATICS RESEARCH LABS ',\n",
       "       'Udacity', 'Udemy and PW Skills', 'Learned mostly from Youtube',\n",
       "       'Almabetter Institute ', 'Udemy Zero To Mastery Academy',\n",
       "       'Innomatis Research Labs', 'Linux World Informatic Practices',\n",
       "       'prepinsta', 'Innomatics Research Lab , Hyderabad',\n",
       "       'University of Kerala ', 'Innomatics Research Lab',\n",
       "       'Coursera Certification ', 'innomatics research labs ',\n",
       "       'Kg reddy college of engineering and technology', 'Ybi Foundation',\n",
       "       'Jansons Institute of Technology', 'coursera & scaler',\n",
       "       'Central University of Rajasthan', 'GOOGLE',\n",
       "       'Aligarh Muslim University ', 'Prepinsta',\n",
       "       'Jobaaj Data Science 5 day free course.', 'Odin school  hyderbad ',\n",
       "       'Indian Institute of Technology Kharagpur ',\n",
       "       'Udemy courses and youtube', 'Bishop Heber College (as Degree)',\n",
       "       'sathya technologiies',\n",
       "       '1. Udemy - Completed  2. Great Learning - Completed', 'TEACHNOOK',\n",
       "       'Infosys springboard ',\n",
       "       \"i have done data science virtualship internship and it's completed and also I did an data science certificate from IBM\",\n",
       "       'Analytics Vidhya', 'NareshIT', 'IBM at COURSERA', '360DIGITMG',\n",
       "       'Degree', 'Udemy and coursera', '360DigitMG',\n",
       "       'Devi Ahilya Vishwavidyalay, Indore, India', 'Upskill Campus',\n",
       "       'Ibm', 'Infinite Graphics Teachnology, Pune',\n",
       "       'Infosys Springboard ', 'Cognitiveclass.ai',\n",
       "       'Entrance exam certificate got', 'PrepInsta Prime', 'Swayam NPTL',\n",
       "       'Datamites, bangalore', 'Jain (Deemed-to-be-University)',\n",
       "       'Applied AI Course', 'Teks Academy', 'LEARNBAY', 'VERZEO',\n",
       "       'Iam taking personally by one of the professor ',\n",
       "       'Sona College of Technology & Google ', 'DAVV ',\n",
       "       'PanTech E learning ', 'PES Modern College of Engineering Pune ',\n",
       "       'Ducat,Noida sec-16', 'TCS',\n",
       "       'python programming and artificial intelligence , pantech e learning',\n",
       "       \"Simplilearn data science ( ongoing master's in AI engineer course)\",\n",
       "       'St.Martins Engineering College ', 'Great learning', 'Uncodemy',\n",
       "       'Department of Futures Studies ', 'HarvardX ',\n",
       "       'Cyberaegis IT Solutions Pvt Ltd', 'NCVET', 'YBI Foundation',\n",
       "       'M.Sc Data science ', 'Innomatics research lab Hyderabad ',\n",
       "       'Seed Infotech ', 'Gana Tech Solutions ', 'Guvi',\n",
       "       'Innomatic Reaserch Lab', 'KGiSL Institute of technology',\n",
       "       'Btech Artificial intelligence and data science @ Dhanalakshmi Srinivasan Engineering College Perambalur ',\n",
       "       'udemy', 'NPTEL, freeCodeCamp.org, CS50, Coursera',\n",
       "       'Amity University',\n",
       "       'School of Data Science and Business Intellegence (SDBI), University of Mumbai',\n",
       "       'World Quant Univeristy', 'INNOMATICS RESEARCH LAB',\n",
       "       'Function Up School of Technology ',\n",
       "       'IBM Data Science Professional Certificate Course',\n",
       "       'G H Raisoni collage of engineering and management, Whagoli ',\n",
       "       'Google Advanced Data analytics and Inmakes infotech internship',\n",
       "       'IIT GUWAHATI, EDUREKA ',\n",
       "       'Madanapalle Institute of Technology and Science',\n",
       "       'MIT World Peace University', 'Datamites',\n",
       "       'Paavai engineering college ',\n",
       "       'Innomatics Research Labs, Hyderabad', 'WorldQuant University',\n",
       "       'Data Science for Engineers, Swayam(NTPEL)', 'Codingrad, ExcelR',\n",
       "       'PGD in Pune University ', 'Udemy , great learning ', 'Learn AI',\n",
       "       'Geeks for Geeks',\n",
       "       'Quality Thoughts Infosystems, Velachery, Chennai ',\n",
       "       'Simplilearn ,India.', 'Innomatics Research Labs,Hayderabad',\n",
       "       'The Cooperative university of Kenya ', 'Free code camp',\n",
       "       'Innomatics research labs Hyderabad ', 'IIIT-Bangalore',\n",
       "       'LinkedIn, Coursera ', 'CodeClause', 'ISBR BUSINESS SCHOOL', 'In',\n",
       "       ' Innomatics Research Labs', 'ineuron',\n",
       "       'Sharad Institute of Technology College of engineering ',\n",
       "       \"Ducat's institute \", 'Brainovision', 'Internshala ',\n",
       "       'Amrita school of engineering ', 'Anits ',\n",
       "       'Infinity graphics technology, Pune ', 'Digital nest, Udemy ',\n",
       "       'African Leadership X(ALX)', 'msc data scince',\n",
       "       'Lagos School of programming ',\n",
       "       'University of Roehampton, United Kingdom',\n",
       "       'Livewire Livetech Skills ', 'Naresh IT ',\n",
       "       'Coursera(Stanford), MyCaptain', 'Learnbay ', 'IIIT bangalore',\n",
       "       'SCALER', 'INNOMATICS REASEARCH LABS', 'DataMites',\n",
       "       'Coursera, Google certification', 'Govt ANMT School Anantnag',\n",
       "       'DevTown', 'ONLINE COURSE ',\n",
       "       'Birla Institute of Technology and Science, Pilani '], dtype=object)"
      ]
     },
     "execution_count": 51,
     "metadata": {},
     "output_type": "execute_result"
    }
   ],
   "source": [
    "df['ds_course_institute'].unique()"
   ]
  },
  {
   "cell_type": "code",
   "execution_count": 52,
   "id": "a41992be-9d84-40f8-abed-e4c1029242eb",
   "metadata": {},
   "outputs": [
    {
     "data": {
      "text/plain": [
       "ds_course_institute\n",
       "Innomatics Research Labs                              109\n",
       "Innomatics research labs                               33\n",
       "Coursera                                               18\n",
       "Innomatics research labs                               16\n",
       "Innomatics Research Labs                               16\n",
       "                                                     ... \n",
       "INeuron                                                 1\n",
       "Innomatics Research Lab, Hyderabad                      1\n",
       "Intershala                                              1\n",
       "365 Data Science                                        1\n",
       "Birla Institute of Technology and Science, Pilani       1\n",
       "Name: count, Length: 365, dtype: int64"
      ]
     },
     "execution_count": 52,
     "metadata": {},
     "output_type": "execute_result"
    }
   ],
   "source": [
    "df['ds_course_institute'].value_counts()"
   ]
  },
  {
   "cell_type": "code",
   "execution_count": 53,
   "id": "579b0f19-9424-4e6b-90ac-017070234ca4",
   "metadata": {},
   "outputs": [
    {
     "data": {
      "text/plain": [
       "ds_course_institute\n",
       "NaN                                                   322\n",
       "Innomatics Research Labs                              109\n",
       "Innomatics research labs                               33\n",
       "Coursera                                               18\n",
       "Innomatics research labs                               16\n",
       "                                                     ... \n",
       "Innomatics Research Lab, Hyderabad                      1\n",
       "Intershala                                              1\n",
       "365 Data Science                                        1\n",
       "Guvi - IITM                                             1\n",
       "Birla Institute of Technology and Science, Pilani       1\n",
       "Name: count, Length: 366, dtype: int64"
      ]
     },
     "execution_count": 53,
     "metadata": {},
     "output_type": "execute_result"
    }
   ],
   "source": [
    "df['ds_course_institute'].value_counts(dropna=False)"
   ]
  },
  {
   "cell_type": "code",
   "execution_count": 54,
   "id": "f8f628cd-900e-4e56-a853-dab79c24dbc5",
   "metadata": {},
   "outputs": [
    {
     "data": {
      "text/plain": [
       "ds_course_institute\n",
       "NaN                                                                             322\n",
       "Innomatics Research Labs                                                        109\n",
       "Innomatics research labs                                                         33\n",
       "Coursera                                                                         18\n",
       "Innomatics research labs                                                         16\n",
       "Innomatics Research Labs                                                         16\n",
       "INNOMATICS RESEARCH LABS                                                         13\n",
       "Udemy                                                                            11\n",
       "Innomatics                                                                        9\n",
       "Innomatics                                                                        8\n",
       "Innomatics Research labs                                                          7\n",
       "Na                                                                                7\n",
       "Coursera                                                                          7\n",
       "Internshala                                                                       5\n",
       "NA                                                                                5\n",
       "Innomatics Reasearch Labs                                                         4\n",
       "Innomatics Research Lab                                                           4\n",
       "Simplilearn                                                                       4\n",
       "Innomatics Research labs                                                          4\n",
       "Scaler                                                                            4\n",
       "Innomatics research lab                                                           3\n",
       "Innomatics Research Labs, Hyderabad                                               3\n",
       "UDEMY                                                                             3\n",
       "INNOMATICS                                                                        3\n",
       "Udemy                                                                             3\n",
       "Innomatics Research Labs Hyderabad                                                3\n",
       "Innomatics Research Lab                                                           3\n",
       "innomatics research labs                                                          3\n",
       "INNOMATICS RESEARCH LABS                                                          3\n",
       "Squad Infotech                                                                    2\n",
       "Cisco networking academy                                                          2\n",
       "Innomatics research labs Hyderabad                                                2\n",
       "Cognitive Class                                                                   2\n",
       "Pw skills                                                                         2\n",
       "Squad Infotech                                                                    2\n",
       "innomatics research lab                                                           2\n",
       "Institute of aeronautical engineering                                             2\n",
       "Pantech University                                                                2\n",
       "WorldQuant University                                                             2\n",
       "ExcelR                                                                            2\n",
       "Indian Institute of Technology Madras                                             2\n",
       "na                                                                                2\n",
       "Innomatics Reasearch Labs                                                         2\n",
       "Great Learning                                                                    2\n",
       "coursera                                                                          2\n",
       "Coursera Certification                                                            2\n",
       "IBM                                                                               2\n",
       "Vidya Pratishthan's Kamalnayan Bajaj Institute of Engineering and Technology      2\n",
       "360digitmg                                                                        2\n",
       "Great learning                                                                    2\n",
       "Name: count, dtype: int64"
      ]
     },
     "execution_count": 54,
     "metadata": {},
     "output_type": "execute_result"
    }
   ],
   "source": [
    "institute_list = df['ds_course_institute'].value_counts(dropna=False)\n",
    "institute_list.head(50)"
   ]
  },
  {
   "cell_type": "code",
   "execution_count": 55,
   "id": "b970368c-bef9-4483-a5ba-7cc74dd8f0f2",
   "metadata": {},
   "outputs": [],
   "source": [
    "# If you want to do a manual check - Answer will be approax equal to 286"
   ]
  },
  {
   "cell_type": "code",
   "execution_count": 56,
   "id": "14f38b3a-9a5e-4301-97a8-07155035fa44",
   "metadata": {},
   "outputs": [
    {
     "name": "stdout",
     "output_type": "stream",
     "text": [
      "Requirement already satisfied: python-Levenshtein in d:\\b.tech\\innomatics\\anaconda\\installiz\\lib\\site-packages (0.26.1)\n",
      "Requirement already satisfied: Levenshtein==0.26.1 in d:\\b.tech\\innomatics\\anaconda\\installiz\\lib\\site-packages (from python-Levenshtein) (0.26.1)\n",
      "Requirement already satisfied: rapidfuzz<4.0.0,>=3.9.0 in d:\\b.tech\\innomatics\\anaconda\\installiz\\lib\\site-packages (from Levenshtein==0.26.1->python-Levenshtein) (3.11.0)\n",
      "Note: you may need to restart the kernel to use updated packages.\n"
     ]
    }
   ],
   "source": [
    "pip install python-Levenshtein"
   ]
  },
  {
   "cell_type": "code",
   "execution_count": 59,
   "id": "c2e62a6f-e6d8-49e7-8f8c-5dac2ceba885",
   "metadata": {},
   "outputs": [
    {
     "name": "stdout",
     "output_type": "stream",
     "text": [
      "The Levenshtein distance between 'Innomatics' and'Innometics' is: 1'\n"
     ]
    }
   ],
   "source": [
    "import Levenshtein\n",
    "\n",
    "# Example Usage\n",
    "str1 = \"Innomatics\"\n",
    "str2 = \"Innometics\"\n",
    "\n",
    "distance = Levenshtein.distance(str1,str2)\n",
    "print(f\"The Levenshtein distance between '{str1}' and'{str2}' is: {distance}'\")"
   ]
  },
  {
   "cell_type": "code",
   "execution_count": 60,
   "id": "a4d29572-7ec7-44ad-a230-8198a938c067",
   "metadata": {},
   "outputs": [
    {
     "name": "stdout",
     "output_type": "stream",
     "text": [
      "Collecting fuzzywuzzy\n",
      "  Downloading fuzzywuzzy-0.18.0-py2.py3-none-any.whl.metadata (4.9 kB)\n",
      "Downloading fuzzywuzzy-0.18.0-py2.py3-none-any.whl (18 kB)\n",
      "Installing collected packages: fuzzywuzzy\n",
      "Successfully installed fuzzywuzzy-0.18.0\n",
      "Note: you may need to restart the kernel to use updated packages.\n"
     ]
    }
   ],
   "source": [
    "pip install fuzzywuzzy"
   ]
  },
  {
   "cell_type": "code",
   "execution_count": 61,
   "id": "a37e8d02-e6b8-49ea-ae43-fc350c545770",
   "metadata": {},
   "outputs": [],
   "source": [
    "# spelling correction using fuzy matching\n",
    "# Reason: Gives a score out of 100\n",
    "# parmeters:\n",
    "# - target_word: The word to be corrected\n",
    "# - choices: A list of candidate words for correction.\n",
    "# - threshold: The minimum sinilarity score for a correction to be accepted.\n",
    "# Returns:\n",
    "# - The corrected word or the original word if no correction is found.\n",
    "\n",
    "from fuzzywuzzy import process\n",
    "\n",
    "def correct_spelling_errors(target_word= \"\", choices=[], threshold=80):\n",
    "    match, score = process.extractOne(target_word, choices)\n",
    "    if score >= threshold:\n",
    "        return match\n",
    "    else:\n",
    "        return target_word\n",
    "    "
   ]
  },
  {
   "cell_type": "code",
   "execution_count": 62,
   "id": "15db3b22-45ae-42f1-ab83-e9038d91e72d",
   "metadata": {},
   "outputs": [],
   "source": [
    "choices = [\"nan\", \"Innomatics\", \"Innomatics Research Labs\", \"Simplilearn\", \"IBM\", \"Coursera\", \"Excelr\", \"Internshala\",\n",
    "           \"Udemy\", \"Scaler\", \"Scaler Academy\", \"Cisco\", \"Engineering\", \"College\", \"University\", \"School\", \"Vishwavidyalaya\",\n",
    "           \"Great Learning\", \"Data Camp\", \"360Digitmg\", \"iNeuron\", \"DUCAT\", \"DataMites\", \"GUVI\", \"NPTEL\", \"Swayam\",\n",
    "           \"PWSkills\", \"PhysicsWallah\", \"Udacity\", \"Self Learning\", \"AlmaBetter\", \"IIIT\", \"IIT\", \"NIT\",\n",
    "           \"Indian Institute Of Technology\", \"National Institute Of Technology\", \"Intellipaat\", \"Squad Infotech\", \n",
    "           \"FreeCodeCamp\", \"1Stop\", \"Geeks For Geeks\", \"Youtube\", \"Top Mentor\", \"LetsUpgrade\", \"UpGrad\", \"NareshIT\", \n",
    "           \"Naresh I Technology\", \"SpringBoard\", \"TCS\", \"Infosys\", \"PanTech\", \"LearnBay\", \"PrepInsta\", \"TestBook\", \n",
    "           \"INSOFE\", \"Acmegrade\"]"
   ]
  },
  {
   "cell_type": "code",
   "execution_count": 64,
   "id": "c2b7bf1c-5d06-44e4-ab03-36851c8460a7",
   "metadata": {},
   "outputs": [
    {
     "data": {
      "text/plain": [
       "'Innomatics Research Labs'"
      ]
     },
     "execution_count": 64,
     "metadata": {},
     "output_type": "execute_result"
    }
   ],
   "source": [
    "correct_spelling_errors(target_word = \"Innomatic reesrch lab\", choices=choices)"
   ]
  },
  {
   "cell_type": "code",
   "execution_count": 65,
   "id": "54b6bf37-f0d8-4fd2-94a4-24e442e4b758",
   "metadata": {},
   "outputs": [
    {
     "data": {
      "text/plain": [
       "'Kanav'"
      ]
     },
     "execution_count": 65,
     "metadata": {},
     "output_type": "execute_result"
    }
   ],
   "source": [
    "correct_spelling_errors(target_word = \"Kanav\", choices=choices)"
   ]
  },
  {
   "cell_type": "code",
   "execution_count": 66,
   "id": "2dc2ae31-484a-4572-be67-eeda324a6e4e",
   "metadata": {},
   "outputs": [],
   "source": [
    "df['ds_course_institute_preprocessed'] = df['ds_course_institute'].apply(lambda institute: correct_spelling_errors(str(institute),choices))"
   ]
  },
  {
   "cell_type": "code",
   "execution_count": 67,
   "id": "114cd8de-da62-49b8-b265-b2749945fcbb",
   "metadata": {},
   "outputs": [
    {
     "data": {
      "text/plain": [
       "120"
      ]
     },
     "execution_count": 67,
     "metadata": {},
     "output_type": "execute_result"
    }
   ],
   "source": [
    "df['ds_course_institute_preprocessed'].nunique()"
   ]
  },
  {
   "cell_type": "code",
   "execution_count": 68,
   "id": "351c03f5-a2b1-488e-aceb-46a445c50e4f",
   "metadata": {},
   "outputs": [
    {
     "data": {
      "text/plain": [
       "array(['Innomatics Research Labs', 'nan', 'College',\n",
       "       'Naresh I Technology', 'Coach-Ed', 'Innomatics', 'University',\n",
       "       'NPTEL', 'Udemy', 'Scaler Academy', 'Engineering', 'Excelr',\n",
       "       'Acmegrade', 'Coursera', 'Top Mentor', 'Cisco', 'Simplilearn',\n",
       "       'Indian Institute Of Technology', 'Squad Infotech', 'FunctionUp',\n",
       "       'Andhra Pradesh State Skill Development Corporation (APSSDC)',\n",
       "       'COCSIT ', 'Yhills', 'Great Learning', 'PanTech', 'AlmaBetter',\n",
       "       'Internshala', 'ETlhive ', 'Data Einstein ', 'Geeks For Geeks',\n",
       "       'Scaler', 'TechnoHacks EduTech Private limited ', 'IIT',\n",
       "       'Offline coaching centre ', 'Data Camp',\n",
       "       'Tamilnadu Skill Development of Corporation',\n",
       "       'CodeBasics Online Platform ', 'Digipodium ', '365 Careers',\n",
       "       '1Stop', 'FreeCodeCamp', 'Bharat Intern', 'HDLC Technologies ',\n",
       "       'Jobaaj Learnings', 'DUCAT', 'LearnBay', 'GUVI',\n",
       "       'EdYoda Digital Institute', 'The correlation', 'Coding Ninjas ',\n",
       "       'IBM', 'UpGrad', 'Linkedin', 'Self Learning', 'Explore Academy',\n",
       "       'iNeuron', '360Digitmg',\n",
       "       'Hagital Consult Nigeria and IBM Data Science Professional Certificate Course (Coursera)',\n",
       "       'PWSkills', 'National Institute Of Technology', 'Evarcity',\n",
       "       'Internship studio', 'N/a', 'IANT', 'HyperionDev',\n",
       "       'Learnwick Solutions ', 'PhysicsWallah', 'Nucot in Bangalore',\n",
       "       'Royal Technosoft pvt Ltd ', 'Applied Roots', 'Intellipaat',\n",
       "       'Quality Thoughts', 'Hamoye and Binance Charity', 'TestBook',\n",
       "       'NIT', 'IPCS GLOBAL CALICUT ', 'Vishwavidyalaya', 'Academor ',\n",
       "       'LetsUpgrade', 'TCSiON Industry Honored Course', 'Udacity',\n",
       "       'Youtube', 'Linux World Informatic Practices', 'PrepInsta',\n",
       "       'Ybi Foundation', 'GOOGLE', 'School', 'sathya technologiies',\n",
       "       'TEACHNOOK', 'SpringBoard', 'Analytics Vidhya', 'NareshIT',\n",
       "       'Degree', 'Upskill Campus', 'Infinite Graphics Teachnology, Pune',\n",
       "       'Entrance exam certificate got', 'Swayam', 'DataMites',\n",
       "       'Applied AI Course', 'Teks Academy', 'VERZEO', 'DAVV ', 'TCS',\n",
       "       'Uncodemy', 'Department of Futures Studies ', 'HarvardX ',\n",
       "       'Cyberaegis IT Solutions Pvt Ltd', 'NCVET', 'YBI Foundation',\n",
       "       'Gana Tech Solutions ',\n",
       "       'Btech Artificial intelligence and data science @ Dhanalakshmi Srinivasan Engineering College Perambalur ',\n",
       "       'Learn AI', 'Infosys', 'IIIT', 'CodeClause', 'Brainovision',\n",
       "       'African Leadership X(ALX)', 'Livewire Livetech Skills ',\n",
       "       'DevTown', 'ONLINE COURSE '], dtype=object)"
      ]
     },
     "execution_count": 68,
     "metadata": {},
     "output_type": "execute_result"
    }
   ],
   "source": [
    "df['ds_course_institute_preprocessed'].unique()"
   ]
  },
  {
   "cell_type": "code",
   "execution_count": 69,
   "id": "8c4e9800-20f4-43f3-beac-f9b2d9c957f3",
   "metadata": {},
   "outputs": [
    {
     "data": {
      "text/plain": [
       "ds_course_institute_preprocessed\n",
       "nan                                                                                        337\n",
       "Innomatics Research Labs                                                                   259\n",
       "Coursera                                                                                    43\n",
       "University                                                                                  36\n",
       "Innomatics                                                                                  30\n",
       "                                                                                          ... \n",
       "Hagital Consult Nigeria and IBM Data Science Professional Certificate Course (Coursera)      1\n",
       "Explore Academy                                                                              1\n",
       "Self Learning                                                                                1\n",
       "Linkedin                                                                                     1\n",
       "ONLINE COURSE                                                                                1\n",
       "Name: count, Length: 120, dtype: int64"
      ]
     },
     "execution_count": 69,
     "metadata": {},
     "output_type": "execute_result"
    }
   ],
   "source": [
    "df['ds_course_institute_preprocessed'].value_counts(dropna=False)"
   ]
  },
  {
   "cell_type": "code",
   "execution_count": 72,
   "id": "8410df9b-4096-4840-bd3d-a8f6f20e1171",
   "metadata": {},
   "outputs": [
    {
     "data": {
      "text/plain": [
       "ds_course_institute_preprocessed\n",
       "nan                                    337\n",
       "Innomatics Research Labs               259\n",
       "Coursera                                43\n",
       "University                              36\n",
       "Innomatics                              30\n",
       "Udemy                                   23\n",
       "Engineering                             16\n",
       "Indian Institute Of Technology          12\n",
       "Data Camp                               12\n",
       "Great Learning                          10\n",
       "Simplilearn                              9\n",
       "Internshala                              9\n",
       "Excelr                                   9\n",
       "College                                  9\n",
       "Squad Infotech                           7\n",
       "AlmaBetter                               6\n",
       "PWSkills                                 6\n",
       "IBM                                      6\n",
       "Naresh I Technology                      6\n",
       "Scaler                                   6\n",
       "School                                   5\n",
       "DUCAT                                    4\n",
       "IIT                                      4\n",
       "Geeks For Geeks                          4\n",
       "LearnBay                                 4\n",
       "360Digitmg                               4\n",
       "Cisco                                    4\n",
       "NIT                                      4\n",
       "PanTech                                  3\n",
       "DataMites                                3\n",
       "GUVI                                     3\n",
       "iNeuron                                  3\n",
       "PhysicsWallah                            3\n",
       "FreeCodeCamp                             3\n",
       "PrepInsta                                3\n",
       "FunctionUp                               2\n",
       "Swayam                                   2\n",
       "Vishwavidyalaya                          2\n",
       "NPTEL                                    2\n",
       "National Institute Of Technology         2\n",
       "Scaler Academy                           2\n",
       "Top Mentor                               2\n",
       "NareshIT                                 2\n",
       "SpringBoard                              2\n",
       "IIIT                                     2\n",
       "Degree                                   1\n",
       "Upskill Campus                           1\n",
       "sathya technologiies                     1\n",
       "Youtube                                  1\n",
       "Linux World Informatic Practices         1\n",
       "Analytics Vidhya                         1\n",
       "GOOGLE                                   1\n",
       "Infinite Graphics Teachnology, Pune      1\n",
       "Ybi Foundation                           1\n",
       "TEACHNOOK                                1\n",
       "Name: count, dtype: int64"
      ]
     },
     "execution_count": 72,
     "metadata": {},
     "output_type": "execute_result"
    }
   ],
   "source": [
    "institute_list_processed = df['ds_course_institute_preprocessed'].value_counts(dropna=False)\n",
    "institute_list_processed.head(55)"
   ]
  },
  {
   "cell_type": "markdown",
   "id": "cef77859-861a-4b75-924c-1178ddc87b9e",
   "metadata": {},
   "source": [
    "# **Conclusion**\n",
    "\n",
    "# This project thoroughly examined the demographics, skills, and professional trends of interns. Significant insights include Innomatics' prominence as a favored data science institute, the growing relevance of skills such as \"Prompt Engineering,\" and the distribution of age groups and career profiles. Data cleaning and preprocessing enhanced the accuracy of trends related to session preferences and skill importance. Advanced methods, including fuzzy matching, were utilized to optimize the dataset. Overall, the analysis offers valuable insights into the interns’ community, shedding light on their educational journeys, skill development, and career progression."
   ]
  }
 ],
 "metadata": {
  "kernelspec": {
   "display_name": "Python 3 (ipykernel)",
   "language": "python",
   "name": "python3"
  },
  "language_info": {
   "codemirror_mode": {
    "name": "ipython",
    "version": 3
   },
   "file_extension": ".py",
   "mimetype": "text/x-python",
   "name": "python",
   "nbconvert_exporter": "python",
   "pygments_lexer": "ipython3",
   "version": "3.12.4"
  }
 },
 "nbformat": 4,
 "nbformat_minor": 5
}
